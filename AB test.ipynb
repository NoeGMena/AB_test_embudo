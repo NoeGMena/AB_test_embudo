{
 "cells": [
  {
   "cell_type": "markdown",
   "metadata": {},
   "source": [
    "# Sprint 14: Proyecto de pruebas A/B\n",
    "\n",
    "Has recibido una tarea analítica de una tienda en línea internacional. Tus predecesores no consiguieron completarla: lanzaron una prueba A/B y luego abandonaron (para iniciar una granja de sandías en Brasil). Solo dejaron las especificaciones técnicas y los resultados de las pruebas."
   ]
  },
  {
   "cell_type": "markdown",
   "metadata": {},
   "source": [
    "**Descripción técnica**\n",
    "\n",
    "- Nombre de la prueba: **recommender_system_test**\n",
    "- Grupos: А (control), B (nuevo embudo de pago)\n",
    "- Fecha de lanzamiento: 2020-12-07\n",
    "- Fecha en la que dejaron de aceptar nuevos usuarios: 2020-12-21\n",
    "- Fecha de finalización: 2021-01-01\n",
    "- Audiencia: 15% de los nuevos usuarios de la región de la UE\n",
    "- Propósito de la prueba: probar cambios relacionados con la introducción de un sistema de recomendaciones mejorado\n",
    "- Resultado esperado: dentro de los 14 días posteriores a la inscripción, los usuarios mostrarán una mejor conversión en vistas de la página del producto (el evento **product_page**), instancias de agregar artículos al carrito de compras (**product_cart**) y compras (**purchase**). En cada etapa del embudo **product_page → product_cart → purchase**, habrá al menos un 10% de aumento.\n",
    "- Número previsto de participantes de la prueba: 6 000"
   ]
  },
  {
   "cell_type": "markdown",
   "metadata": {},
   "source": [
    "**Descripción de los datos**\n",
    "\n",
    "\n",
    "- **ab_project_marketing_events_us.csv** — el calendario de eventos de marketing para 2020\n",
    "- **final_ab_new_users_upd_us.csv** — todos los usuarios que se registraron en la tienda en línea desde el 7 hasta el 21 de diciembre de 2020\n",
    "- **final_ab_events_upd_us.csv** — todos los eventos de los nuevos usuarios en el período comprendido entre el 7 de diciembre de 2020 y el 1 de enero de 2021\n",
    "- **final_ab_participants_upd_us.csv** — tabla con los datos de los participantes de la prueba\n",
    "\n",
    "Estructura **ab_project__marketing_events_us.csv**:\n",
    "\n",
    "- **name** — el nombre del evento de marketing\n",
    "- **regions** — regiones donde se llevará a cabo la campaña publicitaria\n",
    "- **start_dt** — fecha de inicio de la campaña\n",
    "- **finish_dt** — fecha de finalización de la campaña\n",
    "\n",
    "Estructura **final_ab_new_users_upd_us.csv**:\n",
    "\n",
    "- **user_id**\n",
    "- **first_date** — fecha de inscripción\n",
    "- **region**\n",
    "- **device** — dispositivo utilizado para la inscripción\n",
    "\n",
    "Estructura **final_ab_events_upd_us.csv**:\n",
    "\n",
    "- **user_id**\n",
    "- **event_dt** — fecha y hora del evento\n",
    "- **event_name** — nombre del tipo de evento\n",
    "- **details** — datos adicionales sobre el evento (por ejemplo, el pedido total en USD para los eventos purchase)\n",
    "\n",
    "Estructura **final_ab_participants_upd_us.csv**:\n",
    "\n",
    "- **user_id**\n",
    "- **ab_test** — nombre de la prueba\n",
    "- **group** — el grupo de prueba al que pertenecía el usuario"
   ]
  },
  {
   "cell_type": "markdown",
   "metadata": {},
   "source": [
    "## Objetivo\n",
    "\n",
    "El objetivo principal de este AB test es evaluar el impacto de un sistema de recomendaciones mejorado en el comportamiento de los usuarios dentro de un embudo de conversión de una tienda en línea. Específicamente, se quiere comprobar si el nuevo sistema logra incrementar en al menos un 10% las siguientes métricas en comparación con el grupo de control (grupo A), dentro de los 14 días posteriores a la inscripción:\n",
    "\n",
    "Vistas de la página del producto (product_page).\n",
    "Artículos agregados al carrito de compras (product_card).\n",
    "Compras realizadas (purchase).\n",
    "\n",
    "El embudo de conversión que se está midiendo es: product_page --> product_card --> purchase.\n",
    "\n",
    "El experimento involucra un 15% de los nuevos usuarios de la región de la UE, con dos grupos:\n",
    "\n",
    "Grupo A: Control, usuarios que siguen usando el sistema de recomendaciones actual.\n",
    "\n",
    "Grupo B: Usuarios que interactúan con el nuevo sistema de recomendaciones.\n",
    "\n",
    "La duración del test es del 7 de diciembre de 2020 al 1 de enero de 2021, pero los nuevos usuarios se incorporaron solo hasta el 21 de diciembre. Esto permite observar si los cambios en el sistema de recomendaciones logran influir en el comportamiento de los usuarios en las diferentes etapas del embudo."
   ]
  },
  {
   "cell_type": "code",
   "execution_count": 1,
   "metadata": {},
   "outputs": [],
   "source": [
    "# Importación de librerías\n",
    "\n",
    "import pandas as pd\n",
    "import seaborn as sns\n",
    "import matplotlib.pyplot as plt\n",
    "from scipy.stats import mannwhitneyu\n",
    "import numpy as np\n",
    "import math as mth\n",
    "from scipy import stats\n",
    "import statsmodels.api as sm"
   ]
  },
  {
   "cell_type": "markdown",
   "metadata": {},
   "source": [
    "## Abrir el archivo de datos y leer la información general"
   ]
  },
  {
   "cell_type": "code",
   "execution_count": 2,
   "metadata": {},
   "outputs": [],
   "source": [
    "# Descarga de los datasets\n",
    "\n",
    "events = pd.read_csv(\"/datasets/ab_project_marketing_events_us.csv\", parse_dates=['start_dt', \"finish_dt\"])\n",
    "ab_new_users = pd.read_csv(\"/datasets/final_ab_new_users_upd_us.csv\", parse_dates=['first_date'])\n",
    "ab_events = pd.read_csv(\"/datasets/final_ab_events_upd_us.csv\", parse_dates=['event_dt'])\n",
    "test_participants = pd.read_csv(\"/datasets/final_ab_participants_upd_us.csv\")"
   ]
  },
  {
   "cell_type": "code",
   "execution_count": 3,
   "metadata": {},
   "outputs": [
    {
     "data": {
      "text/html": [
       "<div>\n",
       "<style scoped>\n",
       "    .dataframe tbody tr th:only-of-type {\n",
       "        vertical-align: middle;\n",
       "    }\n",
       "\n",
       "    .dataframe tbody tr th {\n",
       "        vertical-align: top;\n",
       "    }\n",
       "\n",
       "    .dataframe thead th {\n",
       "        text-align: right;\n",
       "    }\n",
       "</style>\n",
       "<table border=\"1\" class=\"dataframe\">\n",
       "  <thead>\n",
       "    <tr style=\"text-align: right;\">\n",
       "      <th></th>\n",
       "      <th>name</th>\n",
       "      <th>regions</th>\n",
       "      <th>start_dt</th>\n",
       "      <th>finish_dt</th>\n",
       "    </tr>\n",
       "  </thead>\n",
       "  <tbody>\n",
       "    <tr>\n",
       "      <th>0</th>\n",
       "      <td>Christmas&amp;New Year Promo</td>\n",
       "      <td>EU, N.America</td>\n",
       "      <td>2020-12-25</td>\n",
       "      <td>2021-01-03</td>\n",
       "    </tr>\n",
       "    <tr>\n",
       "      <th>1</th>\n",
       "      <td>St. Valentine's Day Giveaway</td>\n",
       "      <td>EU, CIS, APAC, N.America</td>\n",
       "      <td>2020-02-14</td>\n",
       "      <td>2020-02-16</td>\n",
       "    </tr>\n",
       "    <tr>\n",
       "      <th>2</th>\n",
       "      <td>St. Patric's Day Promo</td>\n",
       "      <td>EU, N.America</td>\n",
       "      <td>2020-03-17</td>\n",
       "      <td>2020-03-19</td>\n",
       "    </tr>\n",
       "    <tr>\n",
       "      <th>3</th>\n",
       "      <td>Easter Promo</td>\n",
       "      <td>EU, CIS, APAC, N.America</td>\n",
       "      <td>2020-04-12</td>\n",
       "      <td>2020-04-19</td>\n",
       "    </tr>\n",
       "    <tr>\n",
       "      <th>4</th>\n",
       "      <td>4th of July Promo</td>\n",
       "      <td>N.America</td>\n",
       "      <td>2020-07-04</td>\n",
       "      <td>2020-07-11</td>\n",
       "    </tr>\n",
       "    <tr>\n",
       "      <th>5</th>\n",
       "      <td>Black Friday Ads Campaign</td>\n",
       "      <td>EU, CIS, APAC, N.America</td>\n",
       "      <td>2020-11-26</td>\n",
       "      <td>2020-12-01</td>\n",
       "    </tr>\n",
       "    <tr>\n",
       "      <th>6</th>\n",
       "      <td>Chinese New Year Promo</td>\n",
       "      <td>APAC</td>\n",
       "      <td>2020-01-25</td>\n",
       "      <td>2020-02-07</td>\n",
       "    </tr>\n",
       "    <tr>\n",
       "      <th>7</th>\n",
       "      <td>Labor day (May 1st) Ads Campaign</td>\n",
       "      <td>EU, CIS, APAC</td>\n",
       "      <td>2020-05-01</td>\n",
       "      <td>2020-05-03</td>\n",
       "    </tr>\n",
       "    <tr>\n",
       "      <th>8</th>\n",
       "      <td>International Women's Day Promo</td>\n",
       "      <td>EU, CIS, APAC</td>\n",
       "      <td>2020-03-08</td>\n",
       "      <td>2020-03-10</td>\n",
       "    </tr>\n",
       "    <tr>\n",
       "      <th>9</th>\n",
       "      <td>Victory Day CIS (May 9th) Event</td>\n",
       "      <td>CIS</td>\n",
       "      <td>2020-05-09</td>\n",
       "      <td>2020-05-11</td>\n",
       "    </tr>\n",
       "    <tr>\n",
       "      <th>10</th>\n",
       "      <td>CIS New Year Gift Lottery</td>\n",
       "      <td>CIS</td>\n",
       "      <td>2020-12-30</td>\n",
       "      <td>2021-01-07</td>\n",
       "    </tr>\n",
       "    <tr>\n",
       "      <th>11</th>\n",
       "      <td>Dragon Boat Festival Giveaway</td>\n",
       "      <td>APAC</td>\n",
       "      <td>2020-06-25</td>\n",
       "      <td>2020-07-01</td>\n",
       "    </tr>\n",
       "    <tr>\n",
       "      <th>12</th>\n",
       "      <td>Single's Day Gift Promo</td>\n",
       "      <td>APAC</td>\n",
       "      <td>2020-11-11</td>\n",
       "      <td>2020-11-12</td>\n",
       "    </tr>\n",
       "    <tr>\n",
       "      <th>13</th>\n",
       "      <td>Chinese Moon Festival</td>\n",
       "      <td>APAC</td>\n",
       "      <td>2020-10-01</td>\n",
       "      <td>2020-10-07</td>\n",
       "    </tr>\n",
       "  </tbody>\n",
       "</table>\n",
       "</div>"
      ],
      "text/plain": [
       "                                name                   regions   start_dt  \\\n",
       "0           Christmas&New Year Promo             EU, N.America 2020-12-25   \n",
       "1       St. Valentine's Day Giveaway  EU, CIS, APAC, N.America 2020-02-14   \n",
       "2             St. Patric's Day Promo             EU, N.America 2020-03-17   \n",
       "3                       Easter Promo  EU, CIS, APAC, N.America 2020-04-12   \n",
       "4                  4th of July Promo                 N.America 2020-07-04   \n",
       "5          Black Friday Ads Campaign  EU, CIS, APAC, N.America 2020-11-26   \n",
       "6             Chinese New Year Promo                      APAC 2020-01-25   \n",
       "7   Labor day (May 1st) Ads Campaign             EU, CIS, APAC 2020-05-01   \n",
       "8    International Women's Day Promo             EU, CIS, APAC 2020-03-08   \n",
       "9    Victory Day CIS (May 9th) Event                       CIS 2020-05-09   \n",
       "10         CIS New Year Gift Lottery                       CIS 2020-12-30   \n",
       "11     Dragon Boat Festival Giveaway                      APAC 2020-06-25   \n",
       "12           Single's Day Gift Promo                      APAC 2020-11-11   \n",
       "13             Chinese Moon Festival                      APAC 2020-10-01   \n",
       "\n",
       "    finish_dt  \n",
       "0  2021-01-03  \n",
       "1  2020-02-16  \n",
       "2  2020-03-19  \n",
       "3  2020-04-19  \n",
       "4  2020-07-11  \n",
       "5  2020-12-01  \n",
       "6  2020-02-07  \n",
       "7  2020-05-03  \n",
       "8  2020-03-10  \n",
       "9  2020-05-11  \n",
       "10 2021-01-07  \n",
       "11 2020-07-01  \n",
       "12 2020-11-12  \n",
       "13 2020-10-07  "
      ]
     },
     "metadata": {},
     "output_type": "display_data"
    },
    {
     "data": {
      "text/html": [
       "<div>\n",
       "<style scoped>\n",
       "    .dataframe tbody tr th:only-of-type {\n",
       "        vertical-align: middle;\n",
       "    }\n",
       "\n",
       "    .dataframe tbody tr th {\n",
       "        vertical-align: top;\n",
       "    }\n",
       "\n",
       "    .dataframe thead th {\n",
       "        text-align: right;\n",
       "    }\n",
       "</style>\n",
       "<table border=\"1\" class=\"dataframe\">\n",
       "  <thead>\n",
       "    <tr style=\"text-align: right;\">\n",
       "      <th></th>\n",
       "      <th>user_id</th>\n",
       "      <th>first_date</th>\n",
       "      <th>region</th>\n",
       "      <th>device</th>\n",
       "    </tr>\n",
       "  </thead>\n",
       "  <tbody>\n",
       "    <tr>\n",
       "      <th>0</th>\n",
       "      <td>D72A72121175D8BE</td>\n",
       "      <td>2020-12-07</td>\n",
       "      <td>EU</td>\n",
       "      <td>PC</td>\n",
       "    </tr>\n",
       "    <tr>\n",
       "      <th>1</th>\n",
       "      <td>F1C668619DFE6E65</td>\n",
       "      <td>2020-12-07</td>\n",
       "      <td>N.America</td>\n",
       "      <td>Android</td>\n",
       "    </tr>\n",
       "    <tr>\n",
       "      <th>2</th>\n",
       "      <td>2E1BF1D4C37EA01F</td>\n",
       "      <td>2020-12-07</td>\n",
       "      <td>EU</td>\n",
       "      <td>PC</td>\n",
       "    </tr>\n",
       "    <tr>\n",
       "      <th>3</th>\n",
       "      <td>50734A22C0C63768</td>\n",
       "      <td>2020-12-07</td>\n",
       "      <td>EU</td>\n",
       "      <td>iPhone</td>\n",
       "    </tr>\n",
       "    <tr>\n",
       "      <th>4</th>\n",
       "      <td>E1BDDCE0DAFA2679</td>\n",
       "      <td>2020-12-07</td>\n",
       "      <td>N.America</td>\n",
       "      <td>iPhone</td>\n",
       "    </tr>\n",
       "    <tr>\n",
       "      <th>...</th>\n",
       "      <td>...</td>\n",
       "      <td>...</td>\n",
       "      <td>...</td>\n",
       "      <td>...</td>\n",
       "    </tr>\n",
       "    <tr>\n",
       "      <th>58698</th>\n",
       "      <td>1DB53B933257165D</td>\n",
       "      <td>2020-12-20</td>\n",
       "      <td>EU</td>\n",
       "      <td>Android</td>\n",
       "    </tr>\n",
       "    <tr>\n",
       "      <th>58699</th>\n",
       "      <td>538643EB4527ED03</td>\n",
       "      <td>2020-12-20</td>\n",
       "      <td>EU</td>\n",
       "      <td>Mac</td>\n",
       "    </tr>\n",
       "    <tr>\n",
       "      <th>58700</th>\n",
       "      <td>7ADEE837D5D8CBBD</td>\n",
       "      <td>2020-12-20</td>\n",
       "      <td>EU</td>\n",
       "      <td>PC</td>\n",
       "    </tr>\n",
       "    <tr>\n",
       "      <th>58701</th>\n",
       "      <td>1C7D23927835213F</td>\n",
       "      <td>2020-12-20</td>\n",
       "      <td>EU</td>\n",
       "      <td>iPhone</td>\n",
       "    </tr>\n",
       "    <tr>\n",
       "      <th>58702</th>\n",
       "      <td>8F04273BB2860229</td>\n",
       "      <td>2020-12-20</td>\n",
       "      <td>EU</td>\n",
       "      <td>Android</td>\n",
       "    </tr>\n",
       "  </tbody>\n",
       "</table>\n",
       "<p>58703 rows × 4 columns</p>\n",
       "</div>"
      ],
      "text/plain": [
       "                user_id first_date     region   device\n",
       "0      D72A72121175D8BE 2020-12-07         EU       PC\n",
       "1      F1C668619DFE6E65 2020-12-07  N.America  Android\n",
       "2      2E1BF1D4C37EA01F 2020-12-07         EU       PC\n",
       "3      50734A22C0C63768 2020-12-07         EU   iPhone\n",
       "4      E1BDDCE0DAFA2679 2020-12-07  N.America   iPhone\n",
       "...                 ...        ...        ...      ...\n",
       "58698  1DB53B933257165D 2020-12-20         EU  Android\n",
       "58699  538643EB4527ED03 2020-12-20         EU      Mac\n",
       "58700  7ADEE837D5D8CBBD 2020-12-20         EU       PC\n",
       "58701  1C7D23927835213F 2020-12-20         EU   iPhone\n",
       "58702  8F04273BB2860229 2020-12-20         EU  Android\n",
       "\n",
       "[58703 rows x 4 columns]"
      ]
     },
     "metadata": {},
     "output_type": "display_data"
    },
    {
     "data": {
      "text/html": [
       "<div>\n",
       "<style scoped>\n",
       "    .dataframe tbody tr th:only-of-type {\n",
       "        vertical-align: middle;\n",
       "    }\n",
       "\n",
       "    .dataframe tbody tr th {\n",
       "        vertical-align: top;\n",
       "    }\n",
       "\n",
       "    .dataframe thead th {\n",
       "        text-align: right;\n",
       "    }\n",
       "</style>\n",
       "<table border=\"1\" class=\"dataframe\">\n",
       "  <thead>\n",
       "    <tr style=\"text-align: right;\">\n",
       "      <th></th>\n",
       "      <th>user_id</th>\n",
       "      <th>event_dt</th>\n",
       "      <th>event_name</th>\n",
       "      <th>details</th>\n",
       "    </tr>\n",
       "  </thead>\n",
       "  <tbody>\n",
       "    <tr>\n",
       "      <th>0</th>\n",
       "      <td>E1BDDCE0DAFA2679</td>\n",
       "      <td>2020-12-07 20:22:03</td>\n",
       "      <td>purchase</td>\n",
       "      <td>99.99</td>\n",
       "    </tr>\n",
       "    <tr>\n",
       "      <th>1</th>\n",
       "      <td>7B6452F081F49504</td>\n",
       "      <td>2020-12-07 09:22:53</td>\n",
       "      <td>purchase</td>\n",
       "      <td>9.99</td>\n",
       "    </tr>\n",
       "    <tr>\n",
       "      <th>2</th>\n",
       "      <td>9CD9F34546DF254C</td>\n",
       "      <td>2020-12-07 12:59:29</td>\n",
       "      <td>purchase</td>\n",
       "      <td>4.99</td>\n",
       "    </tr>\n",
       "    <tr>\n",
       "      <th>3</th>\n",
       "      <td>96F27A054B191457</td>\n",
       "      <td>2020-12-07 04:02:40</td>\n",
       "      <td>purchase</td>\n",
       "      <td>4.99</td>\n",
       "    </tr>\n",
       "    <tr>\n",
       "      <th>4</th>\n",
       "      <td>1FD7660FDF94CA1F</td>\n",
       "      <td>2020-12-07 10:15:09</td>\n",
       "      <td>purchase</td>\n",
       "      <td>4.99</td>\n",
       "    </tr>\n",
       "    <tr>\n",
       "      <th>...</th>\n",
       "      <td>...</td>\n",
       "      <td>...</td>\n",
       "      <td>...</td>\n",
       "      <td>...</td>\n",
       "    </tr>\n",
       "    <tr>\n",
       "      <th>423756</th>\n",
       "      <td>245E85F65C358E08</td>\n",
       "      <td>2020-12-30 19:35:55</td>\n",
       "      <td>login</td>\n",
       "      <td>NaN</td>\n",
       "    </tr>\n",
       "    <tr>\n",
       "      <th>423757</th>\n",
       "      <td>9385A108F5A0A7A7</td>\n",
       "      <td>2020-12-30 10:54:15</td>\n",
       "      <td>login</td>\n",
       "      <td>NaN</td>\n",
       "    </tr>\n",
       "    <tr>\n",
       "      <th>423758</th>\n",
       "      <td>DB650B7559AC6EAC</td>\n",
       "      <td>2020-12-30 10:59:09</td>\n",
       "      <td>login</td>\n",
       "      <td>NaN</td>\n",
       "    </tr>\n",
       "    <tr>\n",
       "      <th>423759</th>\n",
       "      <td>F80C9BDDEA02E53C</td>\n",
       "      <td>2020-12-30 09:53:39</td>\n",
       "      <td>login</td>\n",
       "      <td>NaN</td>\n",
       "    </tr>\n",
       "    <tr>\n",
       "      <th>423760</th>\n",
       "      <td>7AEC61159B672CC5</td>\n",
       "      <td>2020-12-30 11:36:13</td>\n",
       "      <td>login</td>\n",
       "      <td>NaN</td>\n",
       "    </tr>\n",
       "  </tbody>\n",
       "</table>\n",
       "<p>423761 rows × 4 columns</p>\n",
       "</div>"
      ],
      "text/plain": [
       "                 user_id            event_dt event_name  details\n",
       "0       E1BDDCE0DAFA2679 2020-12-07 20:22:03   purchase    99.99\n",
       "1       7B6452F081F49504 2020-12-07 09:22:53   purchase     9.99\n",
       "2       9CD9F34546DF254C 2020-12-07 12:59:29   purchase     4.99\n",
       "3       96F27A054B191457 2020-12-07 04:02:40   purchase     4.99\n",
       "4       1FD7660FDF94CA1F 2020-12-07 10:15:09   purchase     4.99\n",
       "...                  ...                 ...        ...      ...\n",
       "423756  245E85F65C358E08 2020-12-30 19:35:55      login      NaN\n",
       "423757  9385A108F5A0A7A7 2020-12-30 10:54:15      login      NaN\n",
       "423758  DB650B7559AC6EAC 2020-12-30 10:59:09      login      NaN\n",
       "423759  F80C9BDDEA02E53C 2020-12-30 09:53:39      login      NaN\n",
       "423760  7AEC61159B672CC5 2020-12-30 11:36:13      login      NaN\n",
       "\n",
       "[423761 rows x 4 columns]"
      ]
     },
     "metadata": {},
     "output_type": "display_data"
    },
    {
     "data": {
      "text/html": [
       "<div>\n",
       "<style scoped>\n",
       "    .dataframe tbody tr th:only-of-type {\n",
       "        vertical-align: middle;\n",
       "    }\n",
       "\n",
       "    .dataframe tbody tr th {\n",
       "        vertical-align: top;\n",
       "    }\n",
       "\n",
       "    .dataframe thead th {\n",
       "        text-align: right;\n",
       "    }\n",
       "</style>\n",
       "<table border=\"1\" class=\"dataframe\">\n",
       "  <thead>\n",
       "    <tr style=\"text-align: right;\">\n",
       "      <th></th>\n",
       "      <th>user_id</th>\n",
       "      <th>group</th>\n",
       "      <th>ab_test</th>\n",
       "    </tr>\n",
       "  </thead>\n",
       "  <tbody>\n",
       "    <tr>\n",
       "      <th>0</th>\n",
       "      <td>D1ABA3E2887B6A73</td>\n",
       "      <td>A</td>\n",
       "      <td>recommender_system_test</td>\n",
       "    </tr>\n",
       "    <tr>\n",
       "      <th>1</th>\n",
       "      <td>A7A3664BD6242119</td>\n",
       "      <td>A</td>\n",
       "      <td>recommender_system_test</td>\n",
       "    </tr>\n",
       "    <tr>\n",
       "      <th>2</th>\n",
       "      <td>DABC14FDDFADD29E</td>\n",
       "      <td>A</td>\n",
       "      <td>recommender_system_test</td>\n",
       "    </tr>\n",
       "    <tr>\n",
       "      <th>3</th>\n",
       "      <td>04988C5DF189632E</td>\n",
       "      <td>A</td>\n",
       "      <td>recommender_system_test</td>\n",
       "    </tr>\n",
       "    <tr>\n",
       "      <th>4</th>\n",
       "      <td>4FF2998A348C484F</td>\n",
       "      <td>A</td>\n",
       "      <td>recommender_system_test</td>\n",
       "    </tr>\n",
       "    <tr>\n",
       "      <th>...</th>\n",
       "      <td>...</td>\n",
       "      <td>...</td>\n",
       "      <td>...</td>\n",
       "    </tr>\n",
       "    <tr>\n",
       "      <th>14520</th>\n",
       "      <td>1D302F8688B91781</td>\n",
       "      <td>B</td>\n",
       "      <td>interface_eu_test</td>\n",
       "    </tr>\n",
       "    <tr>\n",
       "      <th>14521</th>\n",
       "      <td>3DE51B726983B657</td>\n",
       "      <td>A</td>\n",
       "      <td>interface_eu_test</td>\n",
       "    </tr>\n",
       "    <tr>\n",
       "      <th>14522</th>\n",
       "      <td>F501F79D332BE86C</td>\n",
       "      <td>A</td>\n",
       "      <td>interface_eu_test</td>\n",
       "    </tr>\n",
       "    <tr>\n",
       "      <th>14523</th>\n",
       "      <td>63FBE257B05F2245</td>\n",
       "      <td>A</td>\n",
       "      <td>interface_eu_test</td>\n",
       "    </tr>\n",
       "    <tr>\n",
       "      <th>14524</th>\n",
       "      <td>79F9ABFB029CF724</td>\n",
       "      <td>B</td>\n",
       "      <td>interface_eu_test</td>\n",
       "    </tr>\n",
       "  </tbody>\n",
       "</table>\n",
       "<p>14525 rows × 3 columns</p>\n",
       "</div>"
      ],
      "text/plain": [
       "                user_id group                  ab_test\n",
       "0      D1ABA3E2887B6A73     A  recommender_system_test\n",
       "1      A7A3664BD6242119     A  recommender_system_test\n",
       "2      DABC14FDDFADD29E     A  recommender_system_test\n",
       "3      04988C5DF189632E     A  recommender_system_test\n",
       "4      4FF2998A348C484F     A  recommender_system_test\n",
       "...                 ...   ...                      ...\n",
       "14520  1D302F8688B91781     B        interface_eu_test\n",
       "14521  3DE51B726983B657     A        interface_eu_test\n",
       "14522  F501F79D332BE86C     A        interface_eu_test\n",
       "14523  63FBE257B05F2245     A        interface_eu_test\n",
       "14524  79F9ABFB029CF724     B        interface_eu_test\n",
       "\n",
       "[14525 rows x 3 columns]"
      ]
     },
     "metadata": {},
     "output_type": "display_data"
    }
   ],
   "source": [
    "# Visualización de los datasets\n",
    "display(events, ab_new_users, ab_events, test_participants)"
   ]
  },
  {
   "cell_type": "markdown",
   "metadata": {},
   "source": [
    "## Preprocesamiento de datos"
   ]
  },
  {
   "cell_type": "code",
   "execution_count": 1,
   "metadata": {},
   "outputs": [],
   "source": [
    "# Función para revisión de dataset\n",
    "def revision(data):\n",
    "    display(data.head())\n",
    "    print()\n",
    "    print(data.columns)\n",
    "    print()\n",
    "    print(data.info())\n",
    "    print()\n",
    "    print(data.describe(include = \"all\"))\n",
    "    print(\"Filas duplicadas: \",data.duplicated().sum())\n",
    "    print(data.shape)"
   ]
  },
  {
   "cell_type": "markdown",
   "metadata": {},
   "source": [
    "### events"
   ]
  },
  {
   "cell_type": "code",
   "execution_count": 5,
   "metadata": {},
   "outputs": [
    {
     "data": {
      "text/html": [
       "<div>\n",
       "<style scoped>\n",
       "    .dataframe tbody tr th:only-of-type {\n",
       "        vertical-align: middle;\n",
       "    }\n",
       "\n",
       "    .dataframe tbody tr th {\n",
       "        vertical-align: top;\n",
       "    }\n",
       "\n",
       "    .dataframe thead th {\n",
       "        text-align: right;\n",
       "    }\n",
       "</style>\n",
       "<table border=\"1\" class=\"dataframe\">\n",
       "  <thead>\n",
       "    <tr style=\"text-align: right;\">\n",
       "      <th></th>\n",
       "      <th>name</th>\n",
       "      <th>regions</th>\n",
       "      <th>start_dt</th>\n",
       "      <th>finish_dt</th>\n",
       "    </tr>\n",
       "  </thead>\n",
       "  <tbody>\n",
       "    <tr>\n",
       "      <th>0</th>\n",
       "      <td>Christmas&amp;New Year Promo</td>\n",
       "      <td>EU, N.America</td>\n",
       "      <td>2020-12-25</td>\n",
       "      <td>2021-01-03</td>\n",
       "    </tr>\n",
       "    <tr>\n",
       "      <th>1</th>\n",
       "      <td>St. Valentine's Day Giveaway</td>\n",
       "      <td>EU, CIS, APAC, N.America</td>\n",
       "      <td>2020-02-14</td>\n",
       "      <td>2020-02-16</td>\n",
       "    </tr>\n",
       "    <tr>\n",
       "      <th>2</th>\n",
       "      <td>St. Patric's Day Promo</td>\n",
       "      <td>EU, N.America</td>\n",
       "      <td>2020-03-17</td>\n",
       "      <td>2020-03-19</td>\n",
       "    </tr>\n",
       "    <tr>\n",
       "      <th>3</th>\n",
       "      <td>Easter Promo</td>\n",
       "      <td>EU, CIS, APAC, N.America</td>\n",
       "      <td>2020-04-12</td>\n",
       "      <td>2020-04-19</td>\n",
       "    </tr>\n",
       "    <tr>\n",
       "      <th>4</th>\n",
       "      <td>4th of July Promo</td>\n",
       "      <td>N.America</td>\n",
       "      <td>2020-07-04</td>\n",
       "      <td>2020-07-11</td>\n",
       "    </tr>\n",
       "  </tbody>\n",
       "</table>\n",
       "</div>"
      ],
      "text/plain": [
       "                           name                   regions   start_dt  \\\n",
       "0      Christmas&New Year Promo             EU, N.America 2020-12-25   \n",
       "1  St. Valentine's Day Giveaway  EU, CIS, APAC, N.America 2020-02-14   \n",
       "2        St. Patric's Day Promo             EU, N.America 2020-03-17   \n",
       "3                  Easter Promo  EU, CIS, APAC, N.America 2020-04-12   \n",
       "4             4th of July Promo                 N.America 2020-07-04   \n",
       "\n",
       "   finish_dt  \n",
       "0 2021-01-03  \n",
       "1 2020-02-16  \n",
       "2 2020-03-19  \n",
       "3 2020-04-19  \n",
       "4 2020-07-11  "
      ]
     },
     "metadata": {},
     "output_type": "display_data"
    },
    {
     "name": "stdout",
     "output_type": "stream",
     "text": [
      "\n",
      "Index(['name', 'regions', 'start_dt', 'finish_dt'], dtype='object')\n",
      "\n",
      "<class 'pandas.core.frame.DataFrame'>\n",
      "RangeIndex: 14 entries, 0 to 13\n",
      "Data columns (total 4 columns):\n",
      " #   Column     Non-Null Count  Dtype         \n",
      "---  ------     --------------  -----         \n",
      " 0   name       14 non-null     object        \n",
      " 1   regions    14 non-null     object        \n",
      " 2   start_dt   14 non-null     datetime64[ns]\n",
      " 3   finish_dt  14 non-null     datetime64[ns]\n",
      "dtypes: datetime64[ns](2), object(2)\n",
      "memory usage: 576.0+ bytes\n",
      "None\n",
      "\n",
      "                             name regions             start_dt  \\\n",
      "count                          14      14                   14   \n",
      "unique                         14       6                   14   \n",
      "top     Black Friday Ads Campaign    APAC  2020-07-04 00:00:00   \n",
      "freq                            1       4                    1   \n",
      "first                         NaN     NaN  2020-01-25 00:00:00   \n",
      "last                          NaN     NaN  2020-12-30 00:00:00   \n",
      "\n",
      "                  finish_dt  \n",
      "count                    14  \n",
      "unique                   14  \n",
      "top     2020-03-10 00:00:00  \n",
      "freq                      1  \n",
      "first   2020-02-07 00:00:00  \n",
      "last    2021-01-07 00:00:00  \n",
      "Filas duplicadas:  0\n",
      "(14, 4)\n"
     ]
    }
   ],
   "source": [
    "revision(events)"
   ]
  },
  {
   "cell_type": "markdown",
   "metadata": {},
   "source": [
    "- Los nombres de las columnas están de forma correcta.\n",
    "- No hay valores nulos ni valores duplicados.\n",
    "- Hay 6 regiones distintas."
   ]
  },
  {
   "cell_type": "markdown",
   "metadata": {},
   "source": [
    "### ab_new_users"
   ]
  },
  {
   "cell_type": "code",
   "execution_count": 6,
   "metadata": {},
   "outputs": [
    {
     "data": {
      "text/html": [
       "<div>\n",
       "<style scoped>\n",
       "    .dataframe tbody tr th:only-of-type {\n",
       "        vertical-align: middle;\n",
       "    }\n",
       "\n",
       "    .dataframe tbody tr th {\n",
       "        vertical-align: top;\n",
       "    }\n",
       "\n",
       "    .dataframe thead th {\n",
       "        text-align: right;\n",
       "    }\n",
       "</style>\n",
       "<table border=\"1\" class=\"dataframe\">\n",
       "  <thead>\n",
       "    <tr style=\"text-align: right;\">\n",
       "      <th></th>\n",
       "      <th>user_id</th>\n",
       "      <th>first_date</th>\n",
       "      <th>region</th>\n",
       "      <th>device</th>\n",
       "    </tr>\n",
       "  </thead>\n",
       "  <tbody>\n",
       "    <tr>\n",
       "      <th>0</th>\n",
       "      <td>D72A72121175D8BE</td>\n",
       "      <td>2020-12-07</td>\n",
       "      <td>EU</td>\n",
       "      <td>PC</td>\n",
       "    </tr>\n",
       "    <tr>\n",
       "      <th>1</th>\n",
       "      <td>F1C668619DFE6E65</td>\n",
       "      <td>2020-12-07</td>\n",
       "      <td>N.America</td>\n",
       "      <td>Android</td>\n",
       "    </tr>\n",
       "    <tr>\n",
       "      <th>2</th>\n",
       "      <td>2E1BF1D4C37EA01F</td>\n",
       "      <td>2020-12-07</td>\n",
       "      <td>EU</td>\n",
       "      <td>PC</td>\n",
       "    </tr>\n",
       "    <tr>\n",
       "      <th>3</th>\n",
       "      <td>50734A22C0C63768</td>\n",
       "      <td>2020-12-07</td>\n",
       "      <td>EU</td>\n",
       "      <td>iPhone</td>\n",
       "    </tr>\n",
       "    <tr>\n",
       "      <th>4</th>\n",
       "      <td>E1BDDCE0DAFA2679</td>\n",
       "      <td>2020-12-07</td>\n",
       "      <td>N.America</td>\n",
       "      <td>iPhone</td>\n",
       "    </tr>\n",
       "  </tbody>\n",
       "</table>\n",
       "</div>"
      ],
      "text/plain": [
       "            user_id first_date     region   device\n",
       "0  D72A72121175D8BE 2020-12-07         EU       PC\n",
       "1  F1C668619DFE6E65 2020-12-07  N.America  Android\n",
       "2  2E1BF1D4C37EA01F 2020-12-07         EU       PC\n",
       "3  50734A22C0C63768 2020-12-07         EU   iPhone\n",
       "4  E1BDDCE0DAFA2679 2020-12-07  N.America   iPhone"
      ]
     },
     "metadata": {},
     "output_type": "display_data"
    },
    {
     "name": "stdout",
     "output_type": "stream",
     "text": [
      "\n",
      "Index(['user_id', 'first_date', 'region', 'device'], dtype='object')\n",
      "\n",
      "<class 'pandas.core.frame.DataFrame'>\n",
      "RangeIndex: 58703 entries, 0 to 58702\n",
      "Data columns (total 4 columns):\n",
      " #   Column      Non-Null Count  Dtype         \n",
      "---  ------      --------------  -----         \n",
      " 0   user_id     58703 non-null  object        \n",
      " 1   first_date  58703 non-null  datetime64[ns]\n",
      " 2   region      58703 non-null  object        \n",
      " 3   device      58703 non-null  object        \n",
      "dtypes: datetime64[ns](1), object(3)\n",
      "memory usage: 1.8+ MB\n",
      "None\n",
      "\n",
      "                 user_id           first_date region   device\n",
      "count              58703                58703  58703    58703\n",
      "unique             58703                   17      4        4\n",
      "top     CFD5206A94E51870  2020-12-21 00:00:00     EU  Android\n",
      "freq                   1                 6077  43396    26159\n",
      "first                NaN  2020-12-07 00:00:00    NaN      NaN\n",
      "last                 NaN  2020-12-23 00:00:00    NaN      NaN\n",
      "Filas duplicadas:  0\n",
      "(58703, 4)\n"
     ]
    }
   ],
   "source": [
    "revision(ab_new_users)"
   ]
  },
  {
   "cell_type": "code",
   "execution_count": 7,
   "metadata": {},
   "outputs": [
    {
     "name": "stdout",
     "output_type": "stream",
     "text": [
      "Fecha mínima: 2020-12-07 00:00:00\n",
      "Fecha máxima: 2020-12-23 00:00:00\n"
     ]
    }
   ],
   "source": [
    "print(\"Fecha mínima:\", ab_new_users[\"first_date\"].min())\n",
    "print(\"Fecha máxima:\", ab_new_users[\"first_date\"].max())"
   ]
  },
  {
   "cell_type": "markdown",
   "metadata": {},
   "source": [
    "- Los nombres de las columnas están de forma correcta.\n",
    "- No hay valores nulos ni valores duplicados.\n",
    "- Hay 4 regiones distintas.\n",
    "- Hay 4 dispositivos distintos.\n",
    "- Hay 58,703 usuarios únicos, por tanto cada registro es un usuario\n",
    "- La fecha con mas registros es el 2020-12-21"
   ]
  },
  {
   "cell_type": "markdown",
   "metadata": {},
   "source": [
    "### ab_events"
   ]
  },
  {
   "cell_type": "code",
   "execution_count": 8,
   "metadata": {},
   "outputs": [
    {
     "data": {
      "text/html": [
       "<div>\n",
       "<style scoped>\n",
       "    .dataframe tbody tr th:only-of-type {\n",
       "        vertical-align: middle;\n",
       "    }\n",
       "\n",
       "    .dataframe tbody tr th {\n",
       "        vertical-align: top;\n",
       "    }\n",
       "\n",
       "    .dataframe thead th {\n",
       "        text-align: right;\n",
       "    }\n",
       "</style>\n",
       "<table border=\"1\" class=\"dataframe\">\n",
       "  <thead>\n",
       "    <tr style=\"text-align: right;\">\n",
       "      <th></th>\n",
       "      <th>user_id</th>\n",
       "      <th>event_dt</th>\n",
       "      <th>event_name</th>\n",
       "      <th>details</th>\n",
       "    </tr>\n",
       "  </thead>\n",
       "  <tbody>\n",
       "    <tr>\n",
       "      <th>0</th>\n",
       "      <td>E1BDDCE0DAFA2679</td>\n",
       "      <td>2020-12-07 20:22:03</td>\n",
       "      <td>purchase</td>\n",
       "      <td>99.99</td>\n",
       "    </tr>\n",
       "    <tr>\n",
       "      <th>1</th>\n",
       "      <td>7B6452F081F49504</td>\n",
       "      <td>2020-12-07 09:22:53</td>\n",
       "      <td>purchase</td>\n",
       "      <td>9.99</td>\n",
       "    </tr>\n",
       "    <tr>\n",
       "      <th>2</th>\n",
       "      <td>9CD9F34546DF254C</td>\n",
       "      <td>2020-12-07 12:59:29</td>\n",
       "      <td>purchase</td>\n",
       "      <td>4.99</td>\n",
       "    </tr>\n",
       "    <tr>\n",
       "      <th>3</th>\n",
       "      <td>96F27A054B191457</td>\n",
       "      <td>2020-12-07 04:02:40</td>\n",
       "      <td>purchase</td>\n",
       "      <td>4.99</td>\n",
       "    </tr>\n",
       "    <tr>\n",
       "      <th>4</th>\n",
       "      <td>1FD7660FDF94CA1F</td>\n",
       "      <td>2020-12-07 10:15:09</td>\n",
       "      <td>purchase</td>\n",
       "      <td>4.99</td>\n",
       "    </tr>\n",
       "  </tbody>\n",
       "</table>\n",
       "</div>"
      ],
      "text/plain": [
       "            user_id            event_dt event_name  details\n",
       "0  E1BDDCE0DAFA2679 2020-12-07 20:22:03   purchase    99.99\n",
       "1  7B6452F081F49504 2020-12-07 09:22:53   purchase     9.99\n",
       "2  9CD9F34546DF254C 2020-12-07 12:59:29   purchase     4.99\n",
       "3  96F27A054B191457 2020-12-07 04:02:40   purchase     4.99\n",
       "4  1FD7660FDF94CA1F 2020-12-07 10:15:09   purchase     4.99"
      ]
     },
     "metadata": {},
     "output_type": "display_data"
    },
    {
     "name": "stdout",
     "output_type": "stream",
     "text": [
      "\n",
      "Index(['user_id', 'event_dt', 'event_name', 'details'], dtype='object')\n",
      "\n",
      "<class 'pandas.core.frame.DataFrame'>\n",
      "RangeIndex: 423761 entries, 0 to 423760\n",
      "Data columns (total 4 columns):\n",
      " #   Column      Non-Null Count   Dtype         \n",
      "---  ------      --------------   -----         \n",
      " 0   user_id     423761 non-null  object        \n",
      " 1   event_dt    423761 non-null  datetime64[ns]\n",
      " 2   event_name  423761 non-null  object        \n",
      " 3   details     60314 non-null   float64       \n",
      "dtypes: datetime64[ns](1), float64(1), object(2)\n",
      "memory usage: 12.9+ MB\n",
      "None\n",
      "\n",
      "                 user_id             event_dt event_name       details\n",
      "count             423761               423761     423761  60314.000000\n",
      "unique             58703               257138          4           NaN\n",
      "top     A3917F81482141F2  2020-12-14 18:54:55      login           NaN\n",
      "freq                  36                   10     182465           NaN\n",
      "first                NaN  2020-12-07 00:00:33        NaN           NaN\n",
      "last                 NaN  2020-12-30 23:36:33        NaN           NaN\n",
      "mean                 NaN                  NaN        NaN     23.881219\n",
      "std                  NaN                  NaN        NaN     72.228884\n",
      "min                  NaN                  NaN        NaN      4.990000\n",
      "25%                  NaN                  NaN        NaN      4.990000\n",
      "50%                  NaN                  NaN        NaN      4.990000\n",
      "75%                  NaN                  NaN        NaN      9.990000\n",
      "max                  NaN                  NaN        NaN    499.990000\n",
      "Filas duplicadas:  0\n",
      "(423761, 4)\n"
     ]
    }
   ],
   "source": [
    "revision(ab_events)"
   ]
  },
  {
   "cell_type": "code",
   "execution_count": 9,
   "metadata": {},
   "outputs": [
    {
     "name": "stdout",
     "output_type": "stream",
     "text": [
      "Fecha mínima: 2020-12-07 00:00:33\n",
      "Fecha máxima: 2020-12-30 23:36:33\n"
     ]
    }
   ],
   "source": [
    "print(\"Fecha mínima:\", ab_events[\"event_dt\"].min())\n",
    "print(\"Fecha máxima:\", ab_events[\"event_dt\"].max())"
   ]
  },
  {
   "cell_type": "markdown",
   "metadata": {},
   "source": [
    "- Los nombres de las columnas están de forma correcta.\n",
    "- No hay valores duplicados, pero hay un 85% de valores nulos en la columna \"details\" todos ellos relacionados a cuando el evento es \"log in\", por lo que tiene sentido dado que no se hace una compra, por tanto no se modificarán esos valores nulos. \n",
    "- La fecha con mas registros es el 2020-12-21\n",
    "- La compra máxima es de 9.99\n",
    "- La compra mínima es de 4.99"
   ]
  },
  {
   "cell_type": "markdown",
   "metadata": {},
   "source": [
    "### test_participants"
   ]
  },
  {
   "cell_type": "code",
   "execution_count": 10,
   "metadata": {},
   "outputs": [
    {
     "data": {
      "text/html": [
       "<div>\n",
       "<style scoped>\n",
       "    .dataframe tbody tr th:only-of-type {\n",
       "        vertical-align: middle;\n",
       "    }\n",
       "\n",
       "    .dataframe tbody tr th {\n",
       "        vertical-align: top;\n",
       "    }\n",
       "\n",
       "    .dataframe thead th {\n",
       "        text-align: right;\n",
       "    }\n",
       "</style>\n",
       "<table border=\"1\" class=\"dataframe\">\n",
       "  <thead>\n",
       "    <tr style=\"text-align: right;\">\n",
       "      <th></th>\n",
       "      <th>user_id</th>\n",
       "      <th>group</th>\n",
       "      <th>ab_test</th>\n",
       "    </tr>\n",
       "  </thead>\n",
       "  <tbody>\n",
       "    <tr>\n",
       "      <th>0</th>\n",
       "      <td>D1ABA3E2887B6A73</td>\n",
       "      <td>A</td>\n",
       "      <td>recommender_system_test</td>\n",
       "    </tr>\n",
       "    <tr>\n",
       "      <th>1</th>\n",
       "      <td>A7A3664BD6242119</td>\n",
       "      <td>A</td>\n",
       "      <td>recommender_system_test</td>\n",
       "    </tr>\n",
       "    <tr>\n",
       "      <th>2</th>\n",
       "      <td>DABC14FDDFADD29E</td>\n",
       "      <td>A</td>\n",
       "      <td>recommender_system_test</td>\n",
       "    </tr>\n",
       "    <tr>\n",
       "      <th>3</th>\n",
       "      <td>04988C5DF189632E</td>\n",
       "      <td>A</td>\n",
       "      <td>recommender_system_test</td>\n",
       "    </tr>\n",
       "    <tr>\n",
       "      <th>4</th>\n",
       "      <td>4FF2998A348C484F</td>\n",
       "      <td>A</td>\n",
       "      <td>recommender_system_test</td>\n",
       "    </tr>\n",
       "  </tbody>\n",
       "</table>\n",
       "</div>"
      ],
      "text/plain": [
       "            user_id group                  ab_test\n",
       "0  D1ABA3E2887B6A73     A  recommender_system_test\n",
       "1  A7A3664BD6242119     A  recommender_system_test\n",
       "2  DABC14FDDFADD29E     A  recommender_system_test\n",
       "3  04988C5DF189632E     A  recommender_system_test\n",
       "4  4FF2998A348C484F     A  recommender_system_test"
      ]
     },
     "metadata": {},
     "output_type": "display_data"
    },
    {
     "name": "stdout",
     "output_type": "stream",
     "text": [
      "\n",
      "Index(['user_id', 'group', 'ab_test'], dtype='object')\n",
      "\n",
      "<class 'pandas.core.frame.DataFrame'>\n",
      "RangeIndex: 14525 entries, 0 to 14524\n",
      "Data columns (total 3 columns):\n",
      " #   Column   Non-Null Count  Dtype \n",
      "---  ------   --------------  ----- \n",
      " 0   user_id  14525 non-null  object\n",
      " 1   group    14525 non-null  object\n",
      " 2   ab_test  14525 non-null  object\n",
      "dtypes: object(3)\n",
      "memory usage: 340.6+ KB\n",
      "None\n",
      "\n",
      "                 user_id  group            ab_test\n",
      "count              14525  14525              14525\n",
      "unique             13638      2                  2\n",
      "top     639050CCC2A6C4A1      A  interface_eu_test\n",
      "freq                   2   8214              10850\n",
      "Filas duplicadas:  0\n",
      "(14525, 3)\n"
     ]
    }
   ],
   "source": [
    "revision(test_participants)"
   ]
  },
  {
   "cell_type": "markdown",
   "metadata": {},
   "source": [
    "- Los nombres de las columnas están de forma correcta.\n",
    "- No hay valores nulos.\n",
    "- Parece ser que hay usuarios que están repetidos, habrá que revisar si están en ambos grupos"
   ]
  },
  {
   "cell_type": "code",
   "execution_count": 11,
   "metadata": {},
   "outputs": [
    {
     "name": "stdout",
     "output_type": "stream",
     "text": [
      "Usuarios que están tanto en grupo A como en grupo B en prueba recommender_system_test: 0\n"
     ]
    }
   ],
   "source": [
    "# Usuarios en recommender_system_test\n",
    "recommender_system_test = test_participants[test_participants[\"ab_test\"] == \"recommender_system_test\" ]\n",
    "\n",
    "# Usuarios por grupo\n",
    "group_A = recommender_system_test[recommender_system_test[\"group\"] == \"A\"]\n",
    "group_B = recommender_system_test[recommender_system_test[\"group\"] == \"B\"]\n",
    "\n",
    "# Usuarios que se encuentran en ambos grupos\n",
    "users_in_both_groups = list(set(group_A[\"user_id\"]).intersection(set(group_B)))\n",
    "\n",
    "print(\"Usuarios que están tanto en grupo A como en grupo B en prueba recommender_system_test:\", len(users_in_both_groups))"
   ]
  },
  {
   "cell_type": "code",
   "execution_count": 12,
   "metadata": {},
   "outputs": [
    {
     "data": {
      "text/html": [
       "<div>\n",
       "<style scoped>\n",
       "    .dataframe tbody tr th:only-of-type {\n",
       "        vertical-align: middle;\n",
       "    }\n",
       "\n",
       "    .dataframe tbody tr th {\n",
       "        vertical-align: top;\n",
       "    }\n",
       "\n",
       "    .dataframe thead th {\n",
       "        text-align: right;\n",
       "    }\n",
       "</style>\n",
       "<table border=\"1\" class=\"dataframe\">\n",
       "  <thead>\n",
       "    <tr style=\"text-align: right;\">\n",
       "      <th></th>\n",
       "      <th>user_id</th>\n",
       "      <th>group</th>\n",
       "      <th>ab_test</th>\n",
       "    </tr>\n",
       "  </thead>\n",
       "  <tbody>\n",
       "    <tr>\n",
       "      <th>0</th>\n",
       "      <td>D1ABA3E2887B6A73</td>\n",
       "      <td>A</td>\n",
       "      <td>recommender_system_test</td>\n",
       "    </tr>\n",
       "    <tr>\n",
       "      <th>1</th>\n",
       "      <td>A7A3664BD6242119</td>\n",
       "      <td>A</td>\n",
       "      <td>recommender_system_test</td>\n",
       "    </tr>\n",
       "    <tr>\n",
       "      <th>2</th>\n",
       "      <td>DABC14FDDFADD29E</td>\n",
       "      <td>A</td>\n",
       "      <td>recommender_system_test</td>\n",
       "    </tr>\n",
       "    <tr>\n",
       "      <th>3</th>\n",
       "      <td>04988C5DF189632E</td>\n",
       "      <td>A</td>\n",
       "      <td>recommender_system_test</td>\n",
       "    </tr>\n",
       "    <tr>\n",
       "      <th>4</th>\n",
       "      <td>4FF2998A348C484F</td>\n",
       "      <td>A</td>\n",
       "      <td>recommender_system_test</td>\n",
       "    </tr>\n",
       "  </tbody>\n",
       "</table>\n",
       "</div>"
      ],
      "text/plain": [
       "            user_id group                  ab_test\n",
       "0  D1ABA3E2887B6A73     A  recommender_system_test\n",
       "1  A7A3664BD6242119     A  recommender_system_test\n",
       "2  DABC14FDDFADD29E     A  recommender_system_test\n",
       "3  04988C5DF189632E     A  recommender_system_test\n",
       "4  4FF2998A348C484F     A  recommender_system_test"
      ]
     },
     "metadata": {},
     "output_type": "display_data"
    },
    {
     "name": "stdout",
     "output_type": "stream",
     "text": [
      "\n",
      "Index(['user_id', 'group', 'ab_test'], dtype='object')\n",
      "\n",
      "<class 'pandas.core.frame.DataFrame'>\n",
      "Int64Index: 3675 entries, 0 to 3674\n",
      "Data columns (total 3 columns):\n",
      " #   Column   Non-Null Count  Dtype \n",
      "---  ------   --------------  ----- \n",
      " 0   user_id  3675 non-null   object\n",
      " 1   group    3675 non-null   object\n",
      " 2   ab_test  3675 non-null   object\n",
      "dtypes: object(3)\n",
      "memory usage: 114.8+ KB\n",
      "None\n",
      "\n",
      "                 user_id group                  ab_test\n",
      "count               3675  3675                     3675\n",
      "unique              3675     2                        1\n",
      "top     52667DF0F366C919     A  recommender_system_test\n",
      "freq                   1  2747                     3675\n",
      "Filas duplicadas:  0\n",
      "(3675, 3)\n"
     ]
    }
   ],
   "source": [
    "revision(recommender_system_test)"
   ]
  },
  {
   "cell_type": "markdown",
   "metadata": {},
   "source": [
    "En el dataset existen dos tipos de grupos de las pruebas A/B, dado que solo nos interesa el grupo de \"recommender_system_test\", dejaremos solo la información relacionada a ese grupo."
   ]
  },
  {
   "cell_type": "code",
   "execution_count": 13,
   "metadata": {
    "scrolled": true
   },
   "outputs": [
    {
     "name": "stdout",
     "output_type": "stream",
     "text": [
      "Usuarios en grupo A: 2747\n",
      "Usuarios en grupo B: 928\n"
     ]
    }
   ],
   "source": [
    "print(\"Usuarios en grupo A:\", len(group_A))\n",
    "print(\"Usuarios en grupo B:\", len(group_B))"
   ]
  },
  {
   "cell_type": "markdown",
   "metadata": {},
   "source": [
    "## Análisis exploratorio de datos"
   ]
  },
  {
   "cell_type": "code",
   "execution_count": 26,
   "metadata": {},
   "outputs": [
    {
     "data": {
      "text/html": [
       "<div>\n",
       "<style scoped>\n",
       "    .dataframe tbody tr th:only-of-type {\n",
       "        vertical-align: middle;\n",
       "    }\n",
       "\n",
       "    .dataframe tbody tr th {\n",
       "        vertical-align: top;\n",
       "    }\n",
       "\n",
       "    .dataframe thead th {\n",
       "        text-align: right;\n",
       "    }\n",
       "</style>\n",
       "<table border=\"1\" class=\"dataframe\">\n",
       "  <thead>\n",
       "    <tr style=\"text-align: right;\">\n",
       "      <th></th>\n",
       "      <th>user_id</th>\n",
       "      <th>group</th>\n",
       "      <th>ab_test</th>\n",
       "      <th>event_dt</th>\n",
       "      <th>event_name</th>\n",
       "      <th>details</th>\n",
       "    </tr>\n",
       "  </thead>\n",
       "  <tbody>\n",
       "    <tr>\n",
       "      <th>0</th>\n",
       "      <td>D1ABA3E2887B6A73</td>\n",
       "      <td>A</td>\n",
       "      <td>recommender_system_test</td>\n",
       "      <td>2020-12-07 14:43:27</td>\n",
       "      <td>purchase</td>\n",
       "      <td>99.99</td>\n",
       "    </tr>\n",
       "    <tr>\n",
       "      <th>1</th>\n",
       "      <td>D1ABA3E2887B6A73</td>\n",
       "      <td>A</td>\n",
       "      <td>recommender_system_test</td>\n",
       "      <td>2020-12-07 14:43:29</td>\n",
       "      <td>product_cart</td>\n",
       "      <td>NaN</td>\n",
       "    </tr>\n",
       "    <tr>\n",
       "      <th>2</th>\n",
       "      <td>D1ABA3E2887B6A73</td>\n",
       "      <td>A</td>\n",
       "      <td>recommender_system_test</td>\n",
       "      <td>2020-12-07 14:43:27</td>\n",
       "      <td>product_page</td>\n",
       "      <td>NaN</td>\n",
       "    </tr>\n",
       "    <tr>\n",
       "      <th>3</th>\n",
       "      <td>D1ABA3E2887B6A73</td>\n",
       "      <td>A</td>\n",
       "      <td>recommender_system_test</td>\n",
       "      <td>2020-12-07 14:43:27</td>\n",
       "      <td>login</td>\n",
       "      <td>NaN</td>\n",
       "    </tr>\n",
       "    <tr>\n",
       "      <th>4</th>\n",
       "      <td>A7A3664BD6242119</td>\n",
       "      <td>A</td>\n",
       "      <td>recommender_system_test</td>\n",
       "      <td>2020-12-20 15:46:06</td>\n",
       "      <td>product_page</td>\n",
       "      <td>NaN</td>\n",
       "    </tr>\n",
       "    <tr>\n",
       "      <th>...</th>\n",
       "      <td>...</td>\n",
       "      <td>...</td>\n",
       "      <td>...</td>\n",
       "      <td>...</td>\n",
       "      <td>...</td>\n",
       "      <td>...</td>\n",
       "    </tr>\n",
       "    <tr>\n",
       "      <th>23904</th>\n",
       "      <td>6715343AFBA285AE</td>\n",
       "      <td>B</td>\n",
       "      <td>recommender_system_test</td>\n",
       "      <td>2020-12-07 10:12:15</td>\n",
       "      <td>login</td>\n",
       "      <td>NaN</td>\n",
       "    </tr>\n",
       "    <tr>\n",
       "      <th>23905</th>\n",
       "      <td>6715343AFBA285AE</td>\n",
       "      <td>B</td>\n",
       "      <td>recommender_system_test</td>\n",
       "      <td>2020-12-08 22:51:16</td>\n",
       "      <td>login</td>\n",
       "      <td>NaN</td>\n",
       "    </tr>\n",
       "    <tr>\n",
       "      <th>23906</th>\n",
       "      <td>6715343AFBA285AE</td>\n",
       "      <td>B</td>\n",
       "      <td>recommender_system_test</td>\n",
       "      <td>2020-12-09 02:28:03</td>\n",
       "      <td>login</td>\n",
       "      <td>NaN</td>\n",
       "    </tr>\n",
       "    <tr>\n",
       "      <th>23907</th>\n",
       "      <td>6715343AFBA285AE</td>\n",
       "      <td>B</td>\n",
       "      <td>recommender_system_test</td>\n",
       "      <td>2020-12-10 22:55:14</td>\n",
       "      <td>login</td>\n",
       "      <td>NaN</td>\n",
       "    </tr>\n",
       "    <tr>\n",
       "      <th>23908</th>\n",
       "      <td>6715343AFBA285AE</td>\n",
       "      <td>B</td>\n",
       "      <td>recommender_system_test</td>\n",
       "      <td>2020-12-14 12:40:41</td>\n",
       "      <td>login</td>\n",
       "      <td>NaN</td>\n",
       "    </tr>\n",
       "  </tbody>\n",
       "</table>\n",
       "<p>23909 rows × 6 columns</p>\n",
       "</div>"
      ],
      "text/plain": [
       "                user_id group                  ab_test            event_dt  \\\n",
       "0      D1ABA3E2887B6A73     A  recommender_system_test 2020-12-07 14:43:27   \n",
       "1      D1ABA3E2887B6A73     A  recommender_system_test 2020-12-07 14:43:29   \n",
       "2      D1ABA3E2887B6A73     A  recommender_system_test 2020-12-07 14:43:27   \n",
       "3      D1ABA3E2887B6A73     A  recommender_system_test 2020-12-07 14:43:27   \n",
       "4      A7A3664BD6242119     A  recommender_system_test 2020-12-20 15:46:06   \n",
       "...                 ...   ...                      ...                 ...   \n",
       "23904  6715343AFBA285AE     B  recommender_system_test 2020-12-07 10:12:15   \n",
       "23905  6715343AFBA285AE     B  recommender_system_test 2020-12-08 22:51:16   \n",
       "23906  6715343AFBA285AE     B  recommender_system_test 2020-12-09 02:28:03   \n",
       "23907  6715343AFBA285AE     B  recommender_system_test 2020-12-10 22:55:14   \n",
       "23908  6715343AFBA285AE     B  recommender_system_test 2020-12-14 12:40:41   \n",
       "\n",
       "         event_name  details  \n",
       "0          purchase    99.99  \n",
       "1      product_cart      NaN  \n",
       "2      product_page      NaN  \n",
       "3             login      NaN  \n",
       "4      product_page      NaN  \n",
       "...             ...      ...  \n",
       "23904         login      NaN  \n",
       "23905         login      NaN  \n",
       "23906         login      NaN  \n",
       "23907         login      NaN  \n",
       "23908         login      NaN  \n",
       "\n",
       "[23909 rows x 6 columns]"
      ]
     },
     "execution_count": 26,
     "metadata": {},
     "output_type": "execute_result"
    }
   ],
   "source": [
    "# Unión de tabla de eventos y usuarios del test\n",
    "ab_events_recommender_system_test = recommender_system_test.merge(ab_events, how = \"left\", on = \"user_id\")\n",
    "\n",
    "# Filtro por las fechas en las que ocurre el evento\n",
    "ab_events_recommender_system_test =ab_events_recommender_system_test[(\n",
    "    ab_events_recommender_system_test[\"event_dt\"] >= \"2020-12-07 00:00:00\") \n",
    "    & (ab_events_recommender_system_test[\"event_dt\"] <= \"2021-01-01 23:59:59\")]\n",
    "ab_events_recommender_system_test"
   ]
  },
  {
   "cell_type": "code",
   "execution_count": 15,
   "metadata": {},
   "outputs": [
    {
     "data": {
      "image/png": "[encoded data removed]",
      "text/plain": [
       "<Figure size 640x480 with 1 Axes>"
      ]
     },
     "metadata": {},
     "output_type": "display_data"
    }
   ],
   "source": [
    "# Agrupación por grupo y usario para ver la distribución de los eventos por usuarios.\n",
    "events_per_user = ab_events_recommender_system_test.groupby([\"group\",\"user_id\"]).size().reset_index()\n",
    "events_per_user.columns = [\"group\",\"user_id\", \"n_events\"]\n",
    "sns.histplot(events_per_user, x =\"n_events\", bins = 15, hue = \"group\", kde = True)\n",
    "plt.show()"
   ]
  },
  {
   "cell_type": "code",
   "execution_count": 16,
   "metadata": {},
   "outputs": [
    {
     "name": "stdout",
     "output_type": "stream",
     "text": [
      "Valor p: 3.625922279604957e-17\n",
      "Se rechaza la hipótesis nula, hay evidencia de que ambos grupos son diferentes\n"
     ]
    }
   ],
   "source": [
    "# Filtrar los datos de n_events por grupo\n",
    "group_a_n_events = events_per_user[events_per_user[\"group\"] == \"A\"]\n",
    "group_b_n_events = events_per_user[events_per_user[\"group\"] == \"B\"]\n",
    "\n",
    "# Declaración de hipótesis\n",
    "# Hipótesis nula: Ambos grupos tienen distribución equitativa de muestras iguales\n",
    "\n",
    "# prueba de Mann-Whitney U\n",
    "stat, p_value = mannwhitneyu(group_a_n_events[\"n_events\"], group_b_n_events[\"n_events\"], alternative='two-sided')\n",
    "alpha = 0.05\n",
    "\n",
    "print(\"Valor p:\", p_value)\n",
    "\n",
    "if p_value > 0.05:\n",
    "    print(\"No se puede rechazar la hipótesis nula, hay evidencia de que ambos grupos tienen distribución equitativa\")\n",
    "else:\n",
    "    print(\"Se rechaza la hipótesis nula, hay evidencia de que ambos grupos son diferentes\")"
   ]
  },
  {
   "cell_type": "markdown",
   "metadata": {},
   "source": [
    "Las muestras no tienen una distribución equitativa de eventos por usuario"
   ]
  },
  {
   "cell_type": "markdown",
   "metadata": {},
   "source": [
    "### ¿Hay usuarios que están presentes en ambas muestras?"
   ]
  },
  {
   "cell_type": "code",
   "execution_count": 17,
   "metadata": {},
   "outputs": [
    {
     "name": "stdout",
     "output_type": "stream",
     "text": [
      "Cantidad de usuarios que están en ambos grupos: 0\n"
     ]
    }
   ],
   "source": [
    "# Búsqueda de usuarios en ambos grupos mediante el método \"intersection\"\n",
    "users_in_both_groups = list(set(group_a_n_events[\"user_id\"]).intersection(set(group_b_n_events[\"user_id\"])))\n",
    "print(\"Cantidad de usuarios que están en ambos grupos:\", len(users_in_both_groups))"
   ]
  },
  {
   "cell_type": "markdown",
   "metadata": {},
   "source": [
    "No hay usuarios en ambos grupos."
   ]
  },
  {
   "cell_type": "markdown",
   "metadata": {},
   "source": [
    "### ¿Cómo se distribuye el número de eventos entre los días?"
   ]
  },
  {
   "cell_type": "code",
   "execution_count": 18,
   "metadata": {},
   "outputs": [
    {
     "data": {
      "image/png": "[encoded data removed]",
      "text/plain": [
       "<Figure size 640x480 with 1 Axes>"
      ]
     },
     "metadata": {},
     "output_type": "display_data"
    }
   ],
   "source": [
    "# Creación de columna de fecha sin hora\n",
    "ab_events_recommender_system_test[\"date\"] = ab_events_recommender_system_test[\"event_dt\"].dt.date\n",
    "\n",
    "# Agrupación de eventos por fecha y creación de gráfico de barras\n",
    "events_per_day = ab_events_recommender_system_test.groupby(\"date\")[\"event_name\"].size().reset_index()\n",
    "events_per_day.columns = [\"date\", \"event_frequency\"]\n",
    "sns.barplot(x = events_per_day[\"date\"], y =events_per_day[\"event_frequency\"] )\n",
    "plt.xticks(rotation=90)\n",
    "plt.title(\"Número de eventos por fecha\")\n",
    "plt.show()"
   ]
  },
  {
   "cell_type": "markdown",
   "metadata": {},
   "source": [
    "Se observa una mayor cantidad de eventos el día 21 de diciembre, posterior a ese día, los eventos comienzan a disminuir"
   ]
  },
  {
   "cell_type": "markdown",
   "metadata": {},
   "source": [
    "### ¿Hay alguna peculiaridad en los datos que hay que tener en cuenta antes de iniciar la prueba A/B?"
   ]
  },
  {
   "cell_type": "code",
   "execution_count": 19,
   "metadata": {
    "scrolled": true
   },
   "outputs": [
    {
     "data": {
      "image/png": "[encoded data removed]",
      "text/plain": [
       "<Figure size 640x480 with 1 Axes>"
      ]
     },
     "metadata": {},
     "output_type": "display_data"
    }
   ],
   "source": [
    "# Agrupación de eventos por fecha y grupo, así como creación de gráfico de barras\n",
    "events_per_day_and_group = ab_events_recommender_system_test.groupby([\"date\", \"group\"])[\"event_name\"].size().reset_index()\n",
    "events_per_day_and_group.columns = [\"date\",\"group\", \"event_frequency\"]\n",
    "sns.barplot(x = events_per_day_and_group[\"date\"], y =events_per_day_and_group[\"event_frequency\"], hue = events_per_day_and_group[\"group\"])\n",
    "plt.xticks(rotation=90)\n",
    "plt.title(\"Número de eventos por día y grupo\")\n",
    "plt.show()"
   ]
  },
  {
   "cell_type": "markdown",
   "metadata": {},
   "source": [
    "Es importante considerar que los usuarios del grupo B presentan una distribución distinta de eventos, los cuales se mantuvieron siempre por debajo de los 500 eventos por día."
   ]
  },
  {
   "cell_type": "code",
   "execution_count": 20,
   "metadata": {},
   "outputs": [
    {
     "data": {
      "text/html": [
       "<div>\n",
       "<style scoped>\n",
       "    .dataframe tbody tr th:only-of-type {\n",
       "        vertical-align: middle;\n",
       "    }\n",
       "\n",
       "    .dataframe tbody tr th {\n",
       "        vertical-align: top;\n",
       "    }\n",
       "\n",
       "    .dataframe thead th {\n",
       "        text-align: right;\n",
       "    }\n",
       "</style>\n",
       "<table border=\"1\" class=\"dataframe\">\n",
       "  <thead>\n",
       "    <tr style=\"text-align: right;\">\n",
       "      <th></th>\n",
       "      <th>event_name</th>\n",
       "      <th>counts</th>\n",
       "    </tr>\n",
       "  </thead>\n",
       "  <tbody>\n",
       "    <tr>\n",
       "      <th>0</th>\n",
       "      <td>login</td>\n",
       "      <td>10837</td>\n",
       "    </tr>\n",
       "    <tr>\n",
       "      <th>1</th>\n",
       "      <td>product_page</td>\n",
       "      <td>6702</td>\n",
       "    </tr>\n",
       "    <tr>\n",
       "      <th>2</th>\n",
       "      <td>purchase</td>\n",
       "      <td>3210</td>\n",
       "    </tr>\n",
       "    <tr>\n",
       "      <th>3</th>\n",
       "      <td>product_cart</td>\n",
       "      <td>3160</td>\n",
       "    </tr>\n",
       "  </tbody>\n",
       "</table>\n",
       "</div>"
      ],
      "text/plain": [
       "     event_name  counts\n",
       "0         login   10837\n",
       "1  product_page    6702\n",
       "2      purchase    3210\n",
       "3  product_cart    3160"
      ]
     },
     "metadata": {},
     "output_type": "display_data"
    },
    {
     "data": {
      "text/html": [
       "<div>\n",
       "<style scoped>\n",
       "    .dataframe tbody tr th:only-of-type {\n",
       "        vertical-align: middle;\n",
       "    }\n",
       "\n",
       "    .dataframe tbody tr th {\n",
       "        vertical-align: top;\n",
       "    }\n",
       "\n",
       "    .dataframe thead th {\n",
       "        text-align: right;\n",
       "    }\n",
       "</style>\n",
       "<table border=\"1\" class=\"dataframe\">\n",
       "  <thead>\n",
       "    <tr style=\"text-align: right;\">\n",
       "      <th></th>\n",
       "      <th>event_name</th>\n",
       "      <th>n_users</th>\n",
       "      <th>proportion</th>\n",
       "    </tr>\n",
       "  </thead>\n",
       "  <tbody>\n",
       "    <tr>\n",
       "      <th>0</th>\n",
       "      <td>login</td>\n",
       "      <td>3674</td>\n",
       "      <td>0.999728</td>\n",
       "    </tr>\n",
       "    <tr>\n",
       "      <th>2</th>\n",
       "      <td>product_page</td>\n",
       "      <td>2303</td>\n",
       "      <td>0.626667</td>\n",
       "    </tr>\n",
       "    <tr>\n",
       "      <th>3</th>\n",
       "      <td>purchase</td>\n",
       "      <td>1128</td>\n",
       "      <td>0.306939</td>\n",
       "    </tr>\n",
       "    <tr>\n",
       "      <th>1</th>\n",
       "      <td>product_cart</td>\n",
       "      <td>1079</td>\n",
       "      <td>0.293605</td>\n",
       "    </tr>\n",
       "  </tbody>\n",
       "</table>\n",
       "</div>"
      ],
      "text/plain": [
       "     event_name  n_users  proportion\n",
       "0         login     3674    0.999728\n",
       "2  product_page     2303    0.626667\n",
       "3      purchase     1128    0.306939\n",
       "1  product_cart     1079    0.293605"
      ]
     },
     "metadata": {},
     "output_type": "display_data"
    }
   ],
   "source": [
    "# Cálculo de la frecuencia de actividad por eventos:\n",
    "events_frequency = ab_events_recommender_system_test['event_name'].value_counts().reset_index()\n",
    "events_frequency.columns = [\"event_name\", \"counts\"]\n",
    "display(events_frequency)\n",
    "\n",
    "# Encontrar la cantidad de usuarios por evento:\n",
    "users_per_event = ab_events_recommender_system_test.groupby('event_name')['user_id'].nunique().reset_index()\n",
    "users_per_event.columns = [\"event_name\", \"n_users\"]\n",
    "\n",
    "#Proporción de usuarios por evento\n",
    "unique_users = ab_events_recommender_system_test['user_id'].nunique()\n",
    "users_per_event[\"proportion\"] = users_per_event[\"n_users\"] / unique_users\n",
    "display(users_per_event.sort_values(by = \"n_users\", ascending = False))"
   ]
  },
  {
   "cell_type": "markdown",
   "metadata": {},
   "source": [
    "## Evaluar los resultados de la prueba A/B:"
   ]
  },
  {
   "cell_type": "code",
   "execution_count": 21,
   "metadata": {},
   "outputs": [
    {
     "name": "stdout",
     "output_type": "stream",
     "text": [
      "Total de usuarios que pertenecen al grupo A: 2747\n",
      "Total de usuarios que pertenecen al grupo B: 928\n"
     ]
    }
   ],
   "source": [
    "# filtro de los eventos por usuario\n",
    "group_A = ab_events_recommender_system_test[ab_events_recommender_system_test['group'] == 'A']\n",
    "group_B = ab_events_recommender_system_test[ab_events_recommender_system_test['group'] == 'B']\n",
    "\n",
    "# Usuarios únicos que realizaron la prueba\n",
    "total_users_A = group_A['user_id'].nunique()\n",
    "total_users_B = group_B['user_id'].nunique()\n",
    "\n",
    "print('Total de usuarios que pertenecen al grupo A:', total_users_A)\n",
    "print('Total de usuarios que pertenecen al grupo B:', total_users_B)"
   ]
  },
  {
   "cell_type": "code",
   "execution_count": 22,
   "metadata": {},
   "outputs": [
    {
     "data": {
      "text/html": [
       "<div>\n",
       "<style scoped>\n",
       "    .dataframe tbody tr th:only-of-type {\n",
       "        vertical-align: middle;\n",
       "    }\n",
       "\n",
       "    .dataframe tbody tr th {\n",
       "        vertical-align: top;\n",
       "    }\n",
       "\n",
       "    .dataframe thead th {\n",
       "        text-align: right;\n",
       "    }\n",
       "</style>\n",
       "<table border=\"1\" class=\"dataframe\">\n",
       "  <thead>\n",
       "    <tr style=\"text-align: right;\">\n",
       "      <th></th>\n",
       "      <th>group</th>\n",
       "      <th>event_name</th>\n",
       "      <th>user_id</th>\n",
       "    </tr>\n",
       "  </thead>\n",
       "  <tbody>\n",
       "    <tr>\n",
       "      <th>0</th>\n",
       "      <td>A</td>\n",
       "      <td>login</td>\n",
       "      <td>2747</td>\n",
       "    </tr>\n",
       "    <tr>\n",
       "      <th>1</th>\n",
       "      <td>A</td>\n",
       "      <td>product_cart</td>\n",
       "      <td>824</td>\n",
       "    </tr>\n",
       "    <tr>\n",
       "      <th>2</th>\n",
       "      <td>A</td>\n",
       "      <td>product_page</td>\n",
       "      <td>1780</td>\n",
       "    </tr>\n",
       "    <tr>\n",
       "      <th>3</th>\n",
       "      <td>A</td>\n",
       "      <td>purchase</td>\n",
       "      <td>872</td>\n",
       "    </tr>\n",
       "    <tr>\n",
       "      <th>4</th>\n",
       "      <td>B</td>\n",
       "      <td>login</td>\n",
       "      <td>927</td>\n",
       "    </tr>\n",
       "    <tr>\n",
       "      <th>5</th>\n",
       "      <td>B</td>\n",
       "      <td>product_cart</td>\n",
       "      <td>255</td>\n",
       "    </tr>\n",
       "    <tr>\n",
       "      <th>6</th>\n",
       "      <td>B</td>\n",
       "      <td>product_page</td>\n",
       "      <td>523</td>\n",
       "    </tr>\n",
       "    <tr>\n",
       "      <th>7</th>\n",
       "      <td>B</td>\n",
       "      <td>purchase</td>\n",
       "      <td>256</td>\n",
       "    </tr>\n",
       "  </tbody>\n",
       "</table>\n",
       "</div>"
      ],
      "text/plain": [
       "  group    event_name  user_id\n",
       "0     A         login     2747\n",
       "1     A  product_cart      824\n",
       "2     A  product_page     1780\n",
       "3     A      purchase      872\n",
       "4     B         login      927\n",
       "5     B  product_cart      255\n",
       "6     B  product_page      523\n",
       "7     B      purchase      256"
      ]
     },
     "execution_count": 22,
     "metadata": {},
     "output_type": "execute_result"
    }
   ],
   "source": [
    "# Ahora necesitamos resumir como se distribuyen los usuarios en cada evento para cada grupo:\n",
    "summary = ab_events_recommender_system_test.groupby(['group', 'event_name']).agg({'user_id': 'nunique'}).reset_index()\n",
    "summary\n",
    "# summary_pivot = summary.pivot(index='event_name', columns='group', values='user_id').reset_index()\n",
    "\n",
    "# display(summary_pivot)"
   ]
  },
  {
   "cell_type": "code",
   "execution_count": 23,
   "metadata": {},
   "outputs": [
    {
     "data": {
      "text/html": [
       "<div>\n",
       "<style scoped>\n",
       "    .dataframe tbody tr th:only-of-type {\n",
       "        vertical-align: middle;\n",
       "    }\n",
       "\n",
       "    .dataframe tbody tr th {\n",
       "        vertical-align: top;\n",
       "    }\n",
       "\n",
       "    .dataframe thead th {\n",
       "        text-align: right;\n",
       "    }\n",
       "</style>\n",
       "<table border=\"1\" class=\"dataframe\">\n",
       "  <thead>\n",
       "    <tr style=\"text-align: right;\">\n",
       "      <th>group</th>\n",
       "      <th>event_name</th>\n",
       "      <th>A</th>\n",
       "      <th>B</th>\n",
       "      <th>conversion_A</th>\n",
       "      <th>conversion_B</th>\n",
       "    </tr>\n",
       "  </thead>\n",
       "  <tbody>\n",
       "    <tr>\n",
       "      <th>0</th>\n",
       "      <td>login</td>\n",
       "      <td>2747</td>\n",
       "      <td>927</td>\n",
       "      <td>1.000000</td>\n",
       "      <td>0.998922</td>\n",
       "    </tr>\n",
       "    <tr>\n",
       "      <th>1</th>\n",
       "      <td>product_cart</td>\n",
       "      <td>824</td>\n",
       "      <td>255</td>\n",
       "      <td>0.299964</td>\n",
       "      <td>0.274784</td>\n",
       "    </tr>\n",
       "    <tr>\n",
       "      <th>2</th>\n",
       "      <td>product_page</td>\n",
       "      <td>1780</td>\n",
       "      <td>523</td>\n",
       "      <td>0.647980</td>\n",
       "      <td>0.563578</td>\n",
       "    </tr>\n",
       "    <tr>\n",
       "      <th>3</th>\n",
       "      <td>purchase</td>\n",
       "      <td>872</td>\n",
       "      <td>256</td>\n",
       "      <td>0.317437</td>\n",
       "      <td>0.275862</td>\n",
       "    </tr>\n",
       "  </tbody>\n",
       "</table>\n",
       "</div>"
      ],
      "text/plain": [
       "group    event_name     A    B  conversion_A  conversion_B\n",
       "0             login  2747  927      1.000000      0.998922\n",
       "1      product_cart   824  255      0.299964      0.274784\n",
       "2      product_page  1780  523      0.647980      0.563578\n",
       "3          purchase   872  256      0.317437      0.275862"
      ]
     },
     "metadata": {},
     "output_type": "display_data"
    }
   ],
   "source": [
    "#Distribución de los usuarios por evento y grupo\n",
    "summary = ab_events_recommender_system_test.groupby(['group', 'event_name'])[\"user_id\"].nunique().reset_index()\n",
    "summary_pivot = summary.pivot(index='event_name', columns='group', values='user_id').reset_index()\n",
    "\n",
    "# Cálculo de conversión por grupo\n",
    "summary_pivot['conversion_A'] = summary_pivot['A'] / total_users_A\n",
    "summary_pivot['conversion_B'] = summary_pivot['B'] / total_users_B\n",
    "\n",
    "display(summary_pivot)"
   ]
  },
  {
   "cell_type": "code",
   "execution_count": 24,
   "metadata": {},
   "outputs": [
    {
     "data": {
      "text/html": [
       "<div>\n",
       "<style scoped>\n",
       "    .dataframe tbody tr th:only-of-type {\n",
       "        vertical-align: middle;\n",
       "    }\n",
       "\n",
       "    .dataframe tbody tr th {\n",
       "        vertical-align: top;\n",
       "    }\n",
       "\n",
       "    .dataframe thead th {\n",
       "        text-align: right;\n",
       "    }\n",
       "</style>\n",
       "<table border=\"1\" class=\"dataframe\">\n",
       "  <thead>\n",
       "    <tr style=\"text-align: right;\">\n",
       "      <th>group</th>\n",
       "      <th>event_name</th>\n",
       "      <th>A</th>\n",
       "      <th>B</th>\n",
       "      <th>conversion_A</th>\n",
       "      <th>conversion_B</th>\n",
       "      <th>difference</th>\n",
       "      <th>expected_increase</th>\n",
       "    </tr>\n",
       "  </thead>\n",
       "  <tbody>\n",
       "    <tr>\n",
       "      <th>0</th>\n",
       "      <td>login</td>\n",
       "      <td>2747</td>\n",
       "      <td>927</td>\n",
       "      <td>1.000000</td>\n",
       "      <td>0.998922</td>\n",
       "      <td>-0.001078</td>\n",
       "      <td>0.100000</td>\n",
       "    </tr>\n",
       "    <tr>\n",
       "      <th>1</th>\n",
       "      <td>product_cart</td>\n",
       "      <td>824</td>\n",
       "      <td>255</td>\n",
       "      <td>0.299964</td>\n",
       "      <td>0.274784</td>\n",
       "      <td>-0.025179</td>\n",
       "      <td>0.029996</td>\n",
       "    </tr>\n",
       "    <tr>\n",
       "      <th>2</th>\n",
       "      <td>product_page</td>\n",
       "      <td>1780</td>\n",
       "      <td>523</td>\n",
       "      <td>0.647980</td>\n",
       "      <td>0.563578</td>\n",
       "      <td>-0.084402</td>\n",
       "      <td>0.064798</td>\n",
       "    </tr>\n",
       "    <tr>\n",
       "      <th>3</th>\n",
       "      <td>purchase</td>\n",
       "      <td>872</td>\n",
       "      <td>256</td>\n",
       "      <td>0.317437</td>\n",
       "      <td>0.275862</td>\n",
       "      <td>-0.041575</td>\n",
       "      <td>0.031744</td>\n",
       "    </tr>\n",
       "  </tbody>\n",
       "</table>\n",
       "</div>"
      ],
      "text/plain": [
       "group    event_name     A    B  conversion_A  conversion_B  difference  \\\n",
       "0             login  2747  927      1.000000      0.998922   -0.001078   \n",
       "1      product_cart   824  255      0.299964      0.274784   -0.025179   \n",
       "2      product_page  1780  523      0.647980      0.563578   -0.084402   \n",
       "3          purchase   872  256      0.317437      0.275862   -0.041575   \n",
       "\n",
       "group  expected_increase  \n",
       "0               0.100000  \n",
       "1               0.029996  \n",
       "2               0.064798  \n",
       "3               0.031744  "
      ]
     },
     "metadata": {},
     "output_type": "display_data"
    }
   ],
   "source": [
    "# Calcular diferencias en tasas de conversión y el incremento esperado del 10%:\n",
    "summary_pivot['difference'] = summary_pivot['conversion_B'] - summary_pivot['conversion_A']\n",
    "summary_pivot['expected_increase'] = summary_pivot['conversion_A'] * 0.10\n",
    "\n",
    "display(summary_pivot)"
   ]
  },
  {
   "cell_type": "code",
   "execution_count": 25,
   "metadata": {},
   "outputs": [
    {
     "data": {
      "text/html": [
       "<div>\n",
       "<style scoped>\n",
       "    .dataframe tbody tr th:only-of-type {\n",
       "        vertical-align: middle;\n",
       "    }\n",
       "\n",
       "    .dataframe tbody tr th {\n",
       "        vertical-align: top;\n",
       "    }\n",
       "\n",
       "    .dataframe thead th {\n",
       "        text-align: right;\n",
       "    }\n",
       "</style>\n",
       "<table border=\"1\" class=\"dataframe\">\n",
       "  <thead>\n",
       "    <tr style=\"text-align: right;\">\n",
       "      <th>group</th>\n",
       "      <th>event_name</th>\n",
       "      <th>A</th>\n",
       "      <th>B</th>\n",
       "      <th>conversion_A</th>\n",
       "      <th>conversion_B</th>\n",
       "      <th>difference</th>\n",
       "      <th>expected_increase</th>\n",
       "      <th>z_stat</th>\n",
       "      <th>p_val</th>\n",
       "    </tr>\n",
       "  </thead>\n",
       "  <tbody>\n",
       "    <tr>\n",
       "      <th>0</th>\n",
       "      <td>login</td>\n",
       "      <td>2747</td>\n",
       "      <td>927</td>\n",
       "      <td>1.000000</td>\n",
       "      <td>0.998922</td>\n",
       "      <td>-0.001078</td>\n",
       "      <td>0.100000</td>\n",
       "      <td>1.720737</td>\n",
       "      <td>0.085299</td>\n",
       "    </tr>\n",
       "    <tr>\n",
       "      <th>1</th>\n",
       "      <td>product_cart</td>\n",
       "      <td>824</td>\n",
       "      <td>255</td>\n",
       "      <td>0.299964</td>\n",
       "      <td>0.274784</td>\n",
       "      <td>-0.025179</td>\n",
       "      <td>0.029996</td>\n",
       "      <td>1.456161</td>\n",
       "      <td>0.145348</td>\n",
       "    </tr>\n",
       "    <tr>\n",
       "      <th>2</th>\n",
       "      <td>product_page</td>\n",
       "      <td>1780</td>\n",
       "      <td>523</td>\n",
       "      <td>0.647980</td>\n",
       "      <td>0.563578</td>\n",
       "      <td>-0.084402</td>\n",
       "      <td>0.064798</td>\n",
       "      <td>4.595797</td>\n",
       "      <td>0.000004</td>\n",
       "    </tr>\n",
       "    <tr>\n",
       "      <th>3</th>\n",
       "      <td>purchase</td>\n",
       "      <td>872</td>\n",
       "      <td>256</td>\n",
       "      <td>0.317437</td>\n",
       "      <td>0.275862</td>\n",
       "      <td>-0.041575</td>\n",
       "      <td>0.031744</td>\n",
       "      <td>2.374087</td>\n",
       "      <td>0.017592</td>\n",
       "    </tr>\n",
       "  </tbody>\n",
       "</table>\n",
       "</div>"
      ],
      "text/plain": [
       "group    event_name     A    B  conversion_A  conversion_B  difference  \\\n",
       "0             login  2747  927      1.000000      0.998922   -0.001078   \n",
       "1      product_cart   824  255      0.299964      0.274784   -0.025179   \n",
       "2      product_page  1780  523      0.647980      0.563578   -0.084402   \n",
       "3          purchase   872  256      0.317437      0.275862   -0.041575   \n",
       "\n",
       "group  expected_increase    z_stat     p_val  \n",
       "0               0.100000  1.720737  0.085299  \n",
       "1               0.029996  1.456161  0.145348  \n",
       "2               0.064798  4.595797  0.000004  \n",
       "3               0.031744  2.374087  0.017592  "
      ]
     },
     "metadata": {},
     "output_type": "display_data"
    }
   ],
   "source": [
    "# Prueba de proporciones para cada evento:\n",
    "for event in summary_pivot['event_name']:\n",
    "    count_A = summary_pivot[summary_pivot['event_name'] == event]['A'].values[0]\n",
    "    count_B = summary_pivot[summary_pivot['event_name'] == event]['B'].values[0]\n",
    "    \n",
    "    z_stat, p_val = sm.stats.proportions_ztest([count_A, count_B], [total_users_A, total_users_B])\n",
    "    summary_pivot.loc[summary_pivot['event_name'] == event, 'z_stat'] = z_stat\n",
    "    summary_pivot.loc[summary_pivot['event_name'] == event, 'p_val'] = p_val\n",
    "    \n",
    "display(summary_pivot)"
   ]
  },
  {
   "cell_type": "markdown",
   "metadata": {},
   "source": [
    "## Conclusión"
   ]
  },
  {
   "cell_type": "markdown",
   "metadata": {},
   "source": [
    "Revisando la diferencia de la conversión de valores, ninguna de las etapas dell embudo tiene una diferencia mayor al 10%, por tanto el z-test nos indica si son estadísticamente diferentes las proporciones, en donde login y product_car nos dab una proporción muy parecida, solamente product_page y purchase están por debajo del 0.05 para p_value, lo cual nos dice que hay diferencia en las proporciones, pero al ser negativa la diferencia de conversiones, esta nos confima que la diferencia es en la dirección contraria, por tanto:\n",
    "La campaña publicitaria no dio los resultados esperados."
   ]
  }
 ],
 "metadata": {
  "ExecuteTimeLog": [
   {
    "duration": 9,
    "start_time": "2024-10-23T20:42:23.924Z"
   },
   {
    "duration": 320,
    "start_time": "2024-10-23T21:19:27.818Z"
   },
   {
    "duration": 4,
    "start_time": "2024-10-23T21:21:03.634Z"
   },
   {
    "duration": 518,
    "start_time": "2024-10-23T21:21:09.036Z"
   },
   {
    "duration": 10,
    "start_time": "2024-10-23T21:21:26.976Z"
   },
   {
    "duration": 11,
    "start_time": "2024-10-23T21:21:29.155Z"
   },
   {
    "duration": 77,
    "start_time": "2024-10-23T21:22:08.972Z"
   },
   {
    "duration": 8,
    "start_time": "2024-10-23T21:22:10.528Z"
   },
   {
    "duration": 8,
    "start_time": "2024-10-23T21:22:16.045Z"
   },
   {
    "duration": 17,
    "start_time": "2024-10-23T21:22:29.055Z"
   },
   {
    "duration": 901,
    "start_time": "2024-10-23T21:38:11.949Z"
   },
   {
    "duration": 25,
    "start_time": "2024-10-23T21:38:56.642Z"
   },
   {
    "duration": 373,
    "start_time": "2024-10-23T21:39:39.105Z"
   },
   {
    "duration": 24,
    "start_time": "2024-10-23T21:39:41.063Z"
   },
   {
    "duration": 158,
    "start_time": "2024-10-23T23:09:24.525Z"
   },
   {
    "duration": 291,
    "start_time": "2024-10-23T23:09:30.720Z"
   },
   {
    "duration": 412,
    "start_time": "2024-10-23T23:09:31.012Z"
   },
   {
    "duration": 28,
    "start_time": "2024-10-23T23:09:31.425Z"
   },
   {
    "duration": 3,
    "start_time": "2024-10-23T23:13:50.794Z"
   },
   {
    "duration": 3,
    "start_time": "2024-10-23T23:14:07.777Z"
   },
   {
    "duration": 3,
    "start_time": "2024-10-23T23:14:30.655Z"
   },
   {
    "duration": 41,
    "start_time": "2024-10-23T23:15:35.225Z"
   },
   {
    "duration": 3,
    "start_time": "2024-10-23T23:16:14.385Z"
   },
   {
    "duration": 81,
    "start_time": "2024-10-23T23:16:16.246Z"
   },
   {
    "duration": 19,
    "start_time": "2024-10-23T23:21:59.972Z"
   },
   {
    "duration": 341,
    "start_time": "2024-10-23T23:22:58.004Z"
   },
   {
    "duration": 2,
    "start_time": "2024-10-23T23:23:02.078Z"
   },
   {
    "duration": 21,
    "start_time": "2024-10-23T23:23:04.734Z"
   },
   {
    "duration": 84,
    "start_time": "2024-10-23T23:23:39.732Z"
   },
   {
    "duration": 65,
    "start_time": "2024-10-23T23:26:41.028Z"
   },
   {
    "duration": 7,
    "start_time": "2024-10-23T23:27:44.997Z"
   },
   {
    "duration": 5,
    "start_time": "2024-10-23T23:38:45.130Z"
   },
   {
    "duration": 343,
    "start_time": "2024-10-23T23:38:51.882Z"
   },
   {
    "duration": 389,
    "start_time": "2024-10-23T23:39:23.384Z"
   },
   {
    "duration": 136,
    "start_time": "2024-10-23T23:39:55.676Z"
   },
   {
    "duration": 12,
    "start_time": "2024-10-23T23:41:00.522Z"
   },
   {
    "duration": 6,
    "start_time": "2024-10-23T23:42:02.883Z"
   },
   {
    "duration": 6,
    "start_time": "2024-10-23T23:42:10.083Z"
   },
   {
    "duration": 4,
    "start_time": "2024-10-23T23:42:34.981Z"
   },
   {
    "duration": 4,
    "start_time": "2024-10-23T23:42:53.121Z"
   },
   {
    "duration": 5,
    "start_time": "2024-10-23T23:43:02.821Z"
   },
   {
    "duration": 311,
    "start_time": "2024-10-24T00:41:24.011Z"
   },
   {
    "duration": 402,
    "start_time": "2024-10-24T00:41:24.324Z"
   },
   {
    "duration": 30,
    "start_time": "2024-10-24T00:41:24.728Z"
   },
   {
    "duration": 10,
    "start_time": "2024-10-24T00:41:24.760Z"
   },
   {
    "duration": 30,
    "start_time": "2024-10-24T00:41:24.772Z"
   },
   {
    "duration": 89,
    "start_time": "2024-10-24T00:41:24.803Z"
   },
   {
    "duration": 156,
    "start_time": "2024-10-24T00:41:24.894Z"
   },
   {
    "duration": 19,
    "start_time": "2024-10-24T00:41:25.052Z"
   },
   {
    "duration": 4,
    "start_time": "2024-10-24T00:41:25.072Z"
   },
   {
    "duration": 345,
    "start_time": "2024-10-24T01:13:47.449Z"
   },
   {
    "duration": 543,
    "start_time": "2024-10-24T01:13:47.796Z"
   },
   {
    "duration": 36,
    "start_time": "2024-10-24T01:13:48.341Z"
   },
   {
    "duration": 3,
    "start_time": "2024-10-24T01:13:48.378Z"
   },
   {
    "duration": 42,
    "start_time": "2024-10-24T01:13:48.384Z"
   },
   {
    "duration": 91,
    "start_time": "2024-10-24T01:13:48.428Z"
   },
   {
    "duration": 211,
    "start_time": "2024-10-24T01:13:48.522Z"
   },
   {
    "duration": 6,
    "start_time": "2024-10-24T01:13:48.734Z"
   },
   {
    "duration": 4,
    "start_time": "2024-10-24T01:13:48.743Z"
   },
   {
    "duration": 88,
    "start_time": "2024-10-24T01:21:43.726Z"
   },
   {
    "duration": 12,
    "start_time": "2024-10-24T01:22:09.037Z"
   },
   {
    "duration": 12,
    "start_time": "2024-10-24T01:22:12.592Z"
   },
   {
    "duration": 13,
    "start_time": "2024-10-24T01:22:16.400Z"
   },
   {
    "duration": 12,
    "start_time": "2024-10-24T01:22:33.238Z"
   },
   {
    "duration": 4,
    "start_time": "2024-10-24T01:24:25.450Z"
   },
   {
    "duration": 8,
    "start_time": "2024-10-24T01:26:51.138Z"
   },
   {
    "duration": 9,
    "start_time": "2024-10-24T01:27:01.693Z"
   },
   {
    "duration": 11,
    "start_time": "2024-10-24T01:27:26.547Z"
   },
   {
    "duration": 32,
    "start_time": "2024-10-24T01:27:34.370Z"
   },
   {
    "duration": 31,
    "start_time": "2024-10-24T01:27:49.079Z"
   },
   {
    "duration": 27,
    "start_time": "2024-10-24T01:27:56.901Z"
   },
   {
    "duration": 5,
    "start_time": "2024-10-24T01:29:11.117Z"
   },
   {
    "duration": 146,
    "start_time": "2024-10-24T01:31:17.208Z"
   },
   {
    "duration": 3,
    "start_time": "2024-10-24T01:32:23.227Z"
   },
   {
    "duration": 121,
    "start_time": "2024-10-24T01:32:25.165Z"
   },
   {
    "duration": 3,
    "start_time": "2024-10-24T01:32:33.505Z"
   },
   {
    "duration": 28,
    "start_time": "2024-10-24T01:32:35.199Z"
   },
   {
    "duration": 69,
    "start_time": "2024-10-24T01:32:44.005Z"
   },
   {
    "duration": 277,
    "start_time": "2024-10-24T01:32:49.256Z"
   },
   {
    "duration": 29,
    "start_time": "2024-10-24T01:34:26.496Z"
   },
   {
    "duration": 8,
    "start_time": "2024-10-24T01:36:41.879Z"
   },
   {
    "duration": 9,
    "start_time": "2024-10-24T01:39:09.098Z"
   },
   {
    "duration": 22,
    "start_time": "2024-10-24T01:42:35.826Z"
   },
   {
    "duration": 386,
    "start_time": "2024-10-24T01:43:21.499Z"
   },
   {
    "duration": 11,
    "start_time": "2024-10-24T01:43:38.505Z"
   },
   {
    "duration": 9,
    "start_time": "2024-10-24T01:46:42.899Z"
   },
   {
    "duration": 7,
    "start_time": "2024-10-24T01:47:01.943Z"
   },
   {
    "duration": 16,
    "start_time": "2024-10-24T01:50:04.295Z"
   },
   {
    "duration": 28,
    "start_time": "2024-10-24T02:01:47.352Z"
   },
   {
    "duration": 8,
    "start_time": "2024-10-24T02:02:30.270Z"
   },
   {
    "duration": 465,
    "start_time": "2024-10-24T02:04:47.777Z"
   },
   {
    "duration": 28,
    "start_time": "2024-10-24T02:04:59.301Z"
   },
   {
    "duration": 67,
    "start_time": "2024-10-24T02:05:25.716Z"
   },
   {
    "duration": 298,
    "start_time": "2024-10-24T02:05:46.871Z"
   },
   {
    "duration": 14,
    "start_time": "2024-10-24T02:07:17.182Z"
   },
   {
    "duration": 28,
    "start_time": "2024-10-24T02:07:22.471Z"
   },
   {
    "duration": 10,
    "start_time": "2024-10-24T02:12:37.562Z"
   },
   {
    "duration": 6,
    "start_time": "2024-10-24T02:17:33.937Z"
   },
   {
    "duration": 11,
    "start_time": "2024-10-24T02:17:41.349Z"
   },
   {
    "duration": 6,
    "start_time": "2024-10-24T02:18:13.233Z"
   },
   {
    "duration": 18,
    "start_time": "2024-10-24T02:19:10.091Z"
   },
   {
    "duration": 28,
    "start_time": "2024-10-24T02:19:56.204Z"
   },
   {
    "duration": 20,
    "start_time": "2024-10-24T02:26:55.829Z"
   },
   {
    "duration": 14,
    "start_time": "2024-10-24T02:30:20.283Z"
   },
   {
    "duration": 12,
    "start_time": "2024-10-24T02:30:31.568Z"
   },
   {
    "duration": 12,
    "start_time": "2024-10-24T02:30:47.030Z"
   },
   {
    "duration": 21,
    "start_time": "2024-10-24T02:30:53.113Z"
   },
   {
    "duration": 315,
    "start_time": "2024-10-24T02:31:26.751Z"
   },
   {
    "duration": 396,
    "start_time": "2024-10-24T02:31:27.068Z"
   },
   {
    "duration": 36,
    "start_time": "2024-10-24T02:31:27.465Z"
   },
   {
    "duration": 3,
    "start_time": "2024-10-24T02:31:27.511Z"
   },
   {
    "duration": 19,
    "start_time": "2024-10-24T02:31:27.517Z"
   },
   {
    "duration": 82,
    "start_time": "2024-10-24T02:31:27.538Z"
   },
   {
    "duration": 297,
    "start_time": "2024-10-24T02:31:27.622Z"
   },
   {
    "duration": 27,
    "start_time": "2024-10-24T02:31:27.921Z"
   },
   {
    "duration": 198,
    "start_time": "2024-10-24T02:31:27.950Z"
   },
   {
    "duration": 0,
    "start_time": "2024-10-24T02:31:28.150Z"
   },
   {
    "duration": 0,
    "start_time": "2024-10-24T02:31:28.151Z"
   },
   {
    "duration": 25,
    "start_time": "2024-10-24T02:32:20.918Z"
   },
   {
    "duration": 18,
    "start_time": "2024-10-24T02:32:30.432Z"
   },
   {
    "duration": 16,
    "start_time": "2024-10-24T02:32:33.890Z"
   },
   {
    "duration": 27,
    "start_time": "2024-10-24T02:32:38.892Z"
   },
   {
    "duration": 10,
    "start_time": "2024-10-24T02:32:42.851Z"
   },
   {
    "duration": 7,
    "start_time": "2024-10-24T02:34:44.412Z"
   },
   {
    "duration": 10,
    "start_time": "2024-10-24T02:36:26.568Z"
   },
   {
    "duration": 10,
    "start_time": "2024-10-24T02:36:42.951Z"
   },
   {
    "duration": 10,
    "start_time": "2024-10-24T02:43:14.352Z"
   },
   {
    "duration": 12,
    "start_time": "2024-10-24T02:43:29.230Z"
   },
   {
    "duration": 14,
    "start_time": "2024-10-24T02:43:38.877Z"
   },
   {
    "duration": 14,
    "start_time": "2024-10-24T03:37:47.708Z"
   },
   {
    "duration": 9,
    "start_time": "2024-10-24T03:39:00.924Z"
   },
   {
    "duration": 13,
    "start_time": "2024-10-24T03:39:10.750Z"
   },
   {
    "duration": 12,
    "start_time": "2024-10-24T03:39:38.151Z"
   },
   {
    "duration": 3,
    "start_time": "2024-10-24T03:39:52.344Z"
   },
   {
    "duration": 16,
    "start_time": "2024-10-24T03:39:55.937Z"
   },
   {
    "duration": 3,
    "start_time": "2024-10-24T03:41:19.727Z"
   },
   {
    "duration": 19,
    "start_time": "2024-10-24T03:43:19.084Z"
   },
   {
    "duration": 13,
    "start_time": "2024-10-24T03:45:08.814Z"
   },
   {
    "duration": 11,
    "start_time": "2024-10-24T03:45:19.937Z"
   },
   {
    "duration": 8,
    "start_time": "2024-10-24T03:46:08.237Z"
   },
   {
    "duration": 21,
    "start_time": "2024-10-24T03:46:14.816Z"
   },
   {
    "duration": 18,
    "start_time": "2024-10-24T03:46:32.903Z"
   },
   {
    "duration": 30,
    "start_time": "2024-10-24T03:46:41.303Z"
   },
   {
    "duration": 7,
    "start_time": "2024-10-24T03:46:50.093Z"
   },
   {
    "duration": 7,
    "start_time": "2024-10-24T03:47:53.665Z"
   },
   {
    "duration": 7,
    "start_time": "2024-10-24T03:47:57.888Z"
   },
   {
    "duration": 4,
    "start_time": "2024-10-24T03:49:18.625Z"
   },
   {
    "duration": 6,
    "start_time": "2024-10-24T04:01:52.322Z"
   },
   {
    "duration": 7,
    "start_time": "2024-10-24T04:02:06.910Z"
   },
   {
    "duration": 16,
    "start_time": "2024-10-24T04:03:45.684Z"
   },
   {
    "duration": 17,
    "start_time": "2024-10-24T04:04:08.458Z"
   },
   {
    "duration": 7,
    "start_time": "2024-10-24T04:04:15.503Z"
   },
   {
    "duration": 7,
    "start_time": "2024-10-24T04:04:21.081Z"
   },
   {
    "duration": 7,
    "start_time": "2024-10-24T04:05:01.713Z"
   },
   {
    "duration": 20,
    "start_time": "2024-10-24T04:06:34.978Z"
   },
   {
    "duration": 304,
    "start_time": "2024-10-24T20:46:34.942Z"
   },
   {
    "duration": 530,
    "start_time": "2024-10-24T20:46:35.249Z"
   },
   {
    "duration": 38,
    "start_time": "2024-10-24T20:46:35.781Z"
   },
   {
    "duration": 3,
    "start_time": "2024-10-24T20:46:35.821Z"
   },
   {
    "duration": 21,
    "start_time": "2024-10-24T20:46:35.826Z"
   },
   {
    "duration": 100,
    "start_time": "2024-10-24T20:46:35.848Z"
   },
   {
    "duration": 340,
    "start_time": "2024-10-24T20:46:35.950Z"
   },
   {
    "duration": 36,
    "start_time": "2024-10-24T20:46:36.292Z"
   },
   {
    "duration": 8,
    "start_time": "2024-10-24T20:46:36.332Z"
   },
   {
    "duration": 21,
    "start_time": "2024-10-24T20:46:36.341Z"
   },
   {
    "duration": 3,
    "start_time": "2024-10-24T20:48:20.332Z"
   },
   {
    "duration": 3,
    "start_time": "2024-10-24T20:48:25.106Z"
   },
   {
    "duration": 172,
    "start_time": "2024-10-24T20:52:50.638Z"
   },
   {
    "duration": 10,
    "start_time": "2024-10-24T20:52:52.693Z"
   },
   {
    "duration": 7,
    "start_time": "2024-10-24T20:53:02.275Z"
   },
   {
    "duration": 5,
    "start_time": "2024-10-24T20:56:00.634Z"
   },
   {
    "duration": 4,
    "start_time": "2024-10-24T20:56:04.598Z"
   },
   {
    "duration": 14,
    "start_time": "2024-10-24T20:56:14.225Z"
   },
   {
    "duration": 5,
    "start_time": "2024-10-24T20:56:17.305Z"
   },
   {
    "duration": 5,
    "start_time": "2024-10-24T20:56:30.117Z"
   },
   {
    "duration": 4,
    "start_time": "2024-10-24T20:57:24.879Z"
   },
   {
    "duration": 397,
    "start_time": "2024-10-24T20:58:59.550Z"
   },
   {
    "duration": 3,
    "start_time": "2024-10-24T21:02:16.345Z"
   },
   {
    "duration": 3,
    "start_time": "2024-10-24T21:02:28.854Z"
   },
   {
    "duration": 3,
    "start_time": "2024-10-24T21:02:40.975Z"
   },
   {
    "duration": 3,
    "start_time": "2024-10-24T21:02:55.485Z"
   },
   {
    "duration": 10,
    "start_time": "2024-10-24T21:03:20.996Z"
   },
   {
    "duration": 10,
    "start_time": "2024-10-24T21:03:47.658Z"
   },
   {
    "duration": 14,
    "start_time": "2024-10-24T21:03:56.792Z"
   },
   {
    "duration": 4,
    "start_time": "2024-10-24T21:25:18.776Z"
   },
   {
    "duration": 4,
    "start_time": "2024-10-24T21:25:26.643Z"
   },
   {
    "duration": 18,
    "start_time": "2024-10-24T21:25:36.564Z"
   },
   {
    "duration": 52,
    "start_time": "2024-10-24T21:25:41.465Z"
   },
   {
    "duration": 41,
    "start_time": "2024-10-24T21:25:58.685Z"
   },
   {
    "duration": 3,
    "start_time": "2024-10-24T21:26:15.651Z"
   },
   {
    "duration": 4,
    "start_time": "2024-10-24T21:26:24.419Z"
   },
   {
    "duration": 32,
    "start_time": "2024-10-24T21:27:02.442Z"
   },
   {
    "duration": 50,
    "start_time": "2024-10-24T21:27:05.192Z"
   },
   {
    "duration": 399,
    "start_time": "2024-10-24T21:32:48.706Z"
   },
   {
    "duration": 6,
    "start_time": "2024-10-24T21:33:05.623Z"
   },
   {
    "duration": 16,
    "start_time": "2024-10-24T21:35:23.515Z"
   },
   {
    "duration": 9,
    "start_time": "2024-10-24T21:35:32.734Z"
   },
   {
    "duration": 33,
    "start_time": "2024-10-24T21:37:16.818Z"
   },
   {
    "duration": 2,
    "start_time": "2024-10-24T21:51:14.691Z"
   },
   {
    "duration": 179,
    "start_time": "2024-10-24T21:53:07.900Z"
   },
   {
    "duration": 52,
    "start_time": "2024-10-24T21:53:47.032Z"
   },
   {
    "duration": 67,
    "start_time": "2024-10-24T21:55:07.429Z"
   },
   {
    "duration": 56,
    "start_time": "2024-10-24T21:55:16.757Z"
   },
   {
    "duration": 30,
    "start_time": "2024-10-24T21:56:28.926Z"
   },
   {
    "duration": 38,
    "start_time": "2024-10-24T21:58:00.949Z"
   },
   {
    "duration": 7,
    "start_time": "2024-10-24T21:59:12.566Z"
   },
   {
    "duration": 3,
    "start_time": "2024-10-24T22:05:56.971Z"
   },
   {
    "duration": 4,
    "start_time": "2024-10-24T22:06:24.589Z"
   },
   {
    "duration": 4,
    "start_time": "2024-10-24T22:06:56.117Z"
   },
   {
    "duration": 650,
    "start_time": "2024-10-24T22:07:22.424Z"
   },
   {
    "duration": 4,
    "start_time": "2024-10-24T22:07:37.377Z"
   },
   {
    "duration": 4,
    "start_time": "2024-10-24T22:08:06.783Z"
   },
   {
    "duration": 13,
    "start_time": "2024-10-24T22:08:16.073Z"
   },
   {
    "duration": 4,
    "start_time": "2024-10-24T22:08:18.506Z"
   },
   {
    "duration": 6,
    "start_time": "2024-10-24T22:08:31.656Z"
   },
   {
    "duration": 275,
    "start_time": "2024-10-24T22:08:37.413Z"
   },
   {
    "duration": 82,
    "start_time": "2024-10-24T22:09:36.370Z"
   },
   {
    "duration": 77,
    "start_time": "2024-10-24T22:09:49.608Z"
   },
   {
    "duration": 96,
    "start_time": "2024-10-24T22:09:56.576Z"
   },
   {
    "duration": 4,
    "start_time": "2024-10-24T22:10:54.838Z"
   },
   {
    "duration": 11,
    "start_time": "2024-10-24T22:11:07.975Z"
   },
   {
    "duration": 75,
    "start_time": "2024-10-24T22:12:06.436Z"
   },
   {
    "duration": 335,
    "start_time": "2024-10-24T22:52:28.056Z"
   },
   {
    "duration": 462,
    "start_time": "2024-10-24T22:52:28.394Z"
   },
   {
    "duration": 30,
    "start_time": "2024-10-24T22:52:28.857Z"
   },
   {
    "duration": 3,
    "start_time": "2024-10-24T22:52:28.889Z"
   },
   {
    "duration": 31,
    "start_time": "2024-10-24T22:52:28.895Z"
   },
   {
    "duration": 65,
    "start_time": "2024-10-24T22:52:28.928Z"
   },
   {
    "duration": 4,
    "start_time": "2024-10-24T22:52:28.995Z"
   },
   {
    "duration": 301,
    "start_time": "2024-10-24T22:52:29.001Z"
   },
   {
    "duration": 5,
    "start_time": "2024-10-24T22:52:29.304Z"
   },
   {
    "duration": 38,
    "start_time": "2024-10-24T22:52:29.311Z"
   },
   {
    "duration": 8,
    "start_time": "2024-10-24T22:52:29.350Z"
   },
   {
    "duration": 18,
    "start_time": "2024-10-24T22:52:29.359Z"
   },
   {
    "duration": 3,
    "start_time": "2024-10-24T22:52:29.379Z"
   },
   {
    "duration": 75,
    "start_time": "2024-10-24T22:52:29.385Z"
   },
   {
    "duration": 4,
    "start_time": "2024-10-24T22:52:29.461Z"
   },
   {
    "duration": 3,
    "start_time": "2024-10-24T22:52:29.467Z"
   },
   {
    "duration": 70,
    "start_time": "2024-10-24T22:52:29.472Z"
   },
   {
    "duration": 9,
    "start_time": "2024-10-24T22:52:29.544Z"
   },
   {
    "duration": 32,
    "start_time": "2024-10-24T22:52:29.554Z"
   },
   {
    "duration": 86,
    "start_time": "2024-10-24T22:52:29.588Z"
   },
   {
    "duration": 185,
    "start_time": "2024-10-24T22:52:29.676Z"
   },
   {
    "duration": 0,
    "start_time": "2024-10-24T22:52:29.863Z"
   },
   {
    "duration": 5,
    "start_time": "2024-10-24T22:54:26.592Z"
   },
   {
    "duration": 4,
    "start_time": "2024-10-24T22:55:03.798Z"
   },
   {
    "duration": 4,
    "start_time": "2024-10-24T22:55:17.389Z"
   },
   {
    "duration": 4,
    "start_time": "2024-10-24T22:55:26.330Z"
   },
   {
    "duration": 72,
    "start_time": "2024-10-24T22:56:07.146Z"
   },
   {
    "duration": 5,
    "start_time": "2024-10-24T22:56:18.226Z"
   },
   {
    "duration": 6,
    "start_time": "2024-10-24T22:59:53.889Z"
   },
   {
    "duration": 4,
    "start_time": "2024-10-24T23:00:03.625Z"
   },
   {
    "duration": 7,
    "start_time": "2024-10-24T23:00:22.554Z"
   },
   {
    "duration": 4,
    "start_time": "2024-10-24T23:00:28.652Z"
   },
   {
    "duration": 9,
    "start_time": "2024-10-24T23:00:56.722Z"
   },
   {
    "duration": 68,
    "start_time": "2024-10-24T23:01:08.737Z"
   },
   {
    "duration": 4,
    "start_time": "2024-10-24T23:01:11.163Z"
   },
   {
    "duration": 74,
    "start_time": "2024-10-24T23:01:31.601Z"
   },
   {
    "duration": 4,
    "start_time": "2024-10-24T23:01:35.065Z"
   },
   {
    "duration": 4,
    "start_time": "2024-10-24T23:01:51.746Z"
   },
   {
    "duration": 7,
    "start_time": "2024-10-24T23:01:59.881Z"
   },
   {
    "duration": 117,
    "start_time": "2024-10-24T23:04:40.232Z"
   },
   {
    "duration": 7,
    "start_time": "2024-10-24T23:06:10.044Z"
   },
   {
    "duration": 4,
    "start_time": "2024-10-24T23:48:22.464Z"
   },
   {
    "duration": 18,
    "start_time": "2024-10-24T23:50:43.993Z"
   },
   {
    "duration": 9,
    "start_time": "2024-10-24T23:50:54.578Z"
   },
   {
    "duration": 308,
    "start_time": "2024-10-25T03:43:12.910Z"
   },
   {
    "duration": 482,
    "start_time": "2024-10-25T03:43:13.222Z"
   },
   {
    "duration": 38,
    "start_time": "2024-10-25T03:43:13.706Z"
   },
   {
    "duration": 3,
    "start_time": "2024-10-25T03:43:13.747Z"
   },
   {
    "duration": 30,
    "start_time": "2024-10-25T03:43:13.753Z"
   },
   {
    "duration": 99,
    "start_time": "2024-10-25T03:43:13.785Z"
   },
   {
    "duration": 4,
    "start_time": "2024-10-25T03:43:13.886Z"
   },
   {
    "duration": 317,
    "start_time": "2024-10-25T03:43:13.892Z"
   },
   {
    "duration": 5,
    "start_time": "2024-10-25T03:43:14.211Z"
   },
   {
    "duration": 33,
    "start_time": "2024-10-25T03:43:14.218Z"
   },
   {
    "duration": 21,
    "start_time": "2024-10-25T03:43:14.253Z"
   },
   {
    "duration": 17,
    "start_time": "2024-10-25T03:43:14.276Z"
   },
   {
    "duration": 3,
    "start_time": "2024-10-25T03:43:14.295Z"
   },
   {
    "duration": 42,
    "start_time": "2024-10-25T03:43:14.301Z"
   },
   {
    "duration": 26,
    "start_time": "2024-10-25T03:43:14.345Z"
   },
   {
    "duration": 4,
    "start_time": "2024-10-25T03:43:14.373Z"
   },
   {
    "duration": 49,
    "start_time": "2024-10-25T03:43:14.379Z"
   },
   {
    "duration": 11,
    "start_time": "2024-10-25T03:43:14.430Z"
   },
   {
    "duration": 52,
    "start_time": "2024-10-25T03:43:14.443Z"
   },
   {
    "duration": 81,
    "start_time": "2024-10-25T03:43:14.497Z"
   },
   {
    "duration": 8,
    "start_time": "2024-10-25T03:43:14.580Z"
   },
   {
    "duration": 5,
    "start_time": "2024-10-25T03:43:14.589Z"
   },
   {
    "duration": 24,
    "start_time": "2024-10-25T03:43:14.596Z"
   },
   {
    "duration": 12,
    "start_time": "2024-10-25T03:43:14.622Z"
   },
   {
    "duration": 499,
    "start_time": "2024-10-25T03:44:45.252Z"
   },
   {
    "duration": 21,
    "start_time": "2024-10-25T03:44:50.761Z"
   },
   {
    "duration": 15,
    "start_time": "2024-10-25T03:45:03.299Z"
   },
   {
    "duration": 27,
    "start_time": "2024-10-25T03:46:58.811Z"
   },
   {
    "duration": 12,
    "start_time": "2024-10-25T03:53:17.683Z"
   },
   {
    "duration": 13,
    "start_time": "2024-10-25T03:53:22.460Z"
   },
   {
    "duration": 227,
    "start_time": "2024-10-25T03:53:24.834Z"
   },
   {
    "duration": 10,
    "start_time": "2024-10-25T03:53:32.932Z"
   },
   {
    "duration": 10,
    "start_time": "2024-10-25T04:03:10.607Z"
   },
   {
    "duration": 10,
    "start_time": "2024-10-25T04:03:25.165Z"
   },
   {
    "duration": 6,
    "start_time": "2024-10-25T04:05:43.353Z"
   },
   {
    "duration": 5,
    "start_time": "2024-10-25T04:06:23.583Z"
   },
   {
    "duration": 19,
    "start_time": "2024-10-25T04:06:48.802Z"
   },
   {
    "duration": 10,
    "start_time": "2024-10-25T04:06:54.449Z"
   },
   {
    "duration": 5,
    "start_time": "2024-10-25T04:06:58.723Z"
   },
   {
    "duration": 4,
    "start_time": "2024-10-25T04:07:17.724Z"
   },
   {
    "duration": 23,
    "start_time": "2024-10-25T04:11:55.453Z"
   },
   {
    "duration": 20,
    "start_time": "2024-10-25T04:12:09.035Z"
   },
   {
    "duration": 23,
    "start_time": "2024-10-25T04:12:14.929Z"
   },
   {
    "duration": 24,
    "start_time": "2024-10-25T04:12:18.437Z"
   },
   {
    "duration": 27,
    "start_time": "2024-10-25T04:12:37.574Z"
   },
   {
    "duration": 21,
    "start_time": "2024-10-25T04:12:53.697Z"
   },
   {
    "duration": 27,
    "start_time": "2024-10-25T04:13:01.559Z"
   },
   {
    "duration": 13,
    "start_time": "2024-10-25T04:13:39.619Z"
   },
   {
    "duration": 7,
    "start_time": "2024-10-25T04:15:16.755Z"
   },
   {
    "duration": 10,
    "start_time": "2024-10-25T04:15:33.737Z"
   },
   {
    "duration": 307,
    "start_time": "2024-10-25T04:15:47.477Z"
   },
   {
    "duration": 8,
    "start_time": "2024-10-25T04:16:10.692Z"
   },
   {
    "duration": 8,
    "start_time": "2024-10-25T04:18:25.675Z"
   },
   {
    "duration": 19,
    "start_time": "2024-10-25T04:44:38.334Z"
   },
   {
    "duration": 11,
    "start_time": "2024-10-25T04:44:45.238Z"
   },
   {
    "duration": 13,
    "start_time": "2024-10-25T04:45:32.734Z"
   },
   {
    "duration": 7,
    "start_time": "2024-10-25T04:55:14.042Z"
   },
   {
    "duration": 11,
    "start_time": "2024-10-25T04:55:18.335Z"
   },
   {
    "duration": 14,
    "start_time": "2024-10-25T04:58:24.251Z"
   },
   {
    "duration": 10,
    "start_time": "2024-10-25T04:58:29.919Z"
   },
   {
    "duration": 9,
    "start_time": "2024-10-25T05:48:45.939Z"
   },
   {
    "duration": 12,
    "start_time": "2024-10-25T05:48:51.171Z"
   },
   {
    "duration": 20,
    "start_time": "2024-10-25T05:49:25.637Z"
   },
   {
    "duration": 23,
    "start_time": "2024-10-25T05:49:41.608Z"
   },
   {
    "duration": 2272,
    "start_time": "2024-10-25T05:49:46.998Z"
   },
   {
    "duration": 65,
    "start_time": "2024-10-25T05:49:50.471Z"
   },
   {
    "duration": 144,
    "start_time": "2024-10-25T05:50:49.781Z"
   },
   {
    "duration": 138,
    "start_time": "2024-10-25T05:51:00.002Z"
   },
   {
    "duration": 133,
    "start_time": "2024-10-25T05:51:08.073Z"
   },
   {
    "duration": 6,
    "start_time": "2024-10-25T05:52:26.373Z"
   },
   {
    "duration": 140,
    "start_time": "2024-10-25T05:52:32.807Z"
   },
   {
    "duration": 44320,
    "start_time": "2024-10-25T05:52:59.140Z"
   },
   {
    "duration": 150,
    "start_time": "2024-10-25T05:53:53.078Z"
   },
   {
    "duration": 18,
    "start_time": "2024-10-25T05:54:31.078Z"
   },
   {
    "duration": 14,
    "start_time": "2024-10-25T05:54:34.297Z"
   },
   {
    "duration": 3,
    "start_time": "2024-10-25T05:55:05.809Z"
   },
   {
    "duration": 130,
    "start_time": "2024-10-25T05:55:10.166Z"
   },
   {
    "duration": 133,
    "start_time": "2024-10-25T06:00:02.233Z"
   },
   {
    "duration": 144,
    "start_time": "2024-10-25T06:00:22.696Z"
   },
   {
    "duration": 146,
    "start_time": "2024-10-25T06:00:59.275Z"
   },
   {
    "duration": 8,
    "start_time": "2024-10-25T06:02:00.816Z"
   },
   {
    "duration": 133,
    "start_time": "2024-10-25T06:02:11.842Z"
   },
   {
    "duration": 116,
    "start_time": "2024-10-25T06:02:15.726Z"
   },
   {
    "duration": 12,
    "start_time": "2024-10-25T06:05:27.484Z"
   },
   {
    "duration": 255,
    "start_time": "2024-10-25T06:06:47.309Z"
   },
   {
    "duration": 38,
    "start_time": "2024-10-25T06:07:04.003Z"
   },
   {
    "duration": 202,
    "start_time": "2024-10-25T06:07:28.894Z"
   },
   {
    "duration": 122,
    "start_time": "2024-10-25T06:07:38.144Z"
   },
   {
    "duration": 12,
    "start_time": "2024-10-25T06:07:46.261Z"
   },
   {
    "duration": 115,
    "start_time": "2024-10-25T06:08:06.149Z"
   },
   {
    "duration": 161,
    "start_time": "2024-10-25T06:08:16.731Z"
   },
   {
    "duration": 164,
    "start_time": "2024-10-25T23:07:28.839Z"
   },
   {
    "duration": 2783,
    "start_time": "2024-10-25T23:07:36.829Z"
   },
   {
    "duration": 491,
    "start_time": "2024-10-25T23:07:39.614Z"
   },
   {
    "duration": 28,
    "start_time": "2024-10-25T23:07:40.106Z"
   },
   {
    "duration": 3,
    "start_time": "2024-10-25T23:07:40.137Z"
   },
   {
    "duration": 21,
    "start_time": "2024-10-25T23:07:40.141Z"
   },
   {
    "duration": 98,
    "start_time": "2024-10-25T23:07:40.165Z"
   },
   {
    "duration": 5,
    "start_time": "2024-10-25T23:07:40.265Z"
   },
   {
    "duration": 298,
    "start_time": "2024-10-25T23:07:40.272Z"
   },
   {
    "duration": 6,
    "start_time": "2024-10-25T23:07:40.572Z"
   },
   {
    "duration": 44,
    "start_time": "2024-10-25T23:07:40.581Z"
   },
   {
    "duration": 8,
    "start_time": "2024-10-25T23:07:40.626Z"
   },
   {
    "duration": 18,
    "start_time": "2024-10-25T23:07:40.635Z"
   },
   {
    "duration": 3,
    "start_time": "2024-10-25T23:07:40.655Z"
   },
   {
    "duration": 102,
    "start_time": "2024-10-25T23:07:40.660Z"
   },
   {
    "duration": 19,
    "start_time": "2024-10-25T23:07:40.764Z"
   },
   {
    "duration": 8,
    "start_time": "2024-10-25T23:07:40.785Z"
   },
   {
    "duration": 5,
    "start_time": "2024-10-25T23:07:40.794Z"
   },
   {
    "duration": 0,
    "start_time": "2024-10-25T23:07:40.823Z"
   },
   {
    "duration": 0,
    "start_time": "2024-10-25T23:07:40.825Z"
   },
   {
    "duration": 11,
    "start_time": "2024-10-25T23:08:49.016Z"
   },
   {
    "duration": 10,
    "start_time": "2024-10-25T23:08:53.774Z"
   },
   {
    "duration": 912,
    "start_time": "2024-10-25T23:10:03.356Z"
   },
   {
    "duration": 16,
    "start_time": "2024-10-25T23:10:36.755Z"
   },
   {
    "duration": 16,
    "start_time": "2024-10-25T23:10:38.918Z"
   },
   {
    "duration": 9,
    "start_time": "2024-10-25T23:11:01.252Z"
   },
   {
    "duration": 7,
    "start_time": "2024-10-25T23:11:17.959Z"
   },
   {
    "duration": 8,
    "start_time": "2024-10-25T23:11:24.296Z"
   },
   {
    "duration": 9,
    "start_time": "2024-10-25T23:11:31.478Z"
   },
   {
    "duration": 61,
    "start_time": "2024-10-25T23:11:45.528Z"
   },
   {
    "duration": 10,
    "start_time": "2024-10-25T23:12:06.014Z"
   },
   {
    "duration": 20,
    "start_time": "2024-10-25T23:13:19.206Z"
   },
   {
    "duration": 154,
    "start_time": "2024-10-25T23:13:26.694Z"
   },
   {
    "duration": 10,
    "start_time": "2024-10-25T23:13:35.302Z"
   },
   {
    "duration": 10,
    "start_time": "2024-10-25T23:13:52.157Z"
   },
   {
    "duration": 18,
    "start_time": "2024-10-25T23:14:04.708Z"
   },
   {
    "duration": 17,
    "start_time": "2024-10-25T23:14:08.356Z"
   },
   {
    "duration": 10,
    "start_time": "2024-10-25T23:14:11.847Z"
   },
   {
    "duration": 9,
    "start_time": "2024-10-25T23:14:15.559Z"
   },
   {
    "duration": 12,
    "start_time": "2024-10-25T23:16:34.656Z"
   },
   {
    "duration": 16,
    "start_time": "2024-10-25T23:18:12.391Z"
   },
   {
    "duration": 9,
    "start_time": "2024-10-25T23:18:23.050Z"
   },
   {
    "duration": 13,
    "start_time": "2024-10-25T23:18:52.336Z"
   },
   {
    "duration": 14,
    "start_time": "2024-10-25T23:18:59.569Z"
   },
   {
    "duration": 21,
    "start_time": "2024-10-25T23:24:37.954Z"
   },
   {
    "duration": 165,
    "start_time": "2024-10-25T23:25:35.070Z"
   },
   {
    "duration": 294,
    "start_time": "2024-10-25T23:25:43.891Z"
   },
   {
    "duration": 2515,
    "start_time": "2024-10-26T04:14:21.691Z"
   },
   {
    "duration": 472,
    "start_time": "2024-10-26T04:14:24.208Z"
   },
   {
    "duration": 33,
    "start_time": "2024-10-26T04:14:24.681Z"
   },
   {
    "duration": 4,
    "start_time": "2024-10-26T04:14:24.716Z"
   },
   {
    "duration": 22,
    "start_time": "2024-10-26T04:14:24.721Z"
   },
   {
    "duration": 91,
    "start_time": "2024-10-26T04:14:24.744Z"
   },
   {
    "duration": 4,
    "start_time": "2024-10-26T04:14:24.836Z"
   },
   {
    "duration": 282,
    "start_time": "2024-10-26T04:14:24.842Z"
   },
   {
    "duration": 5,
    "start_time": "2024-10-26T04:14:25.126Z"
   },
   {
    "duration": 26,
    "start_time": "2024-10-26T04:14:25.134Z"
   },
   {
    "duration": 6,
    "start_time": "2024-10-26T04:14:25.161Z"
   },
   {
    "duration": 52,
    "start_time": "2024-10-26T04:14:25.169Z"
   },
   {
    "duration": 4,
    "start_time": "2024-10-26T04:14:25.223Z"
   },
   {
    "duration": 124,
    "start_time": "2024-10-26T04:14:25.230Z"
   },
   {
    "duration": 22,
    "start_time": "2024-10-26T04:14:25.356Z"
   },
   {
    "duration": 30,
    "start_time": "2024-10-26T04:14:25.380Z"
   },
   {
    "duration": 16,
    "start_time": "2024-10-26T04:14:25.412Z"
   },
   {
    "duration": 355,
    "start_time": "2024-10-26T04:14:25.430Z"
   },
   {
    "duration": 20,
    "start_time": "2024-10-26T04:14:25.787Z"
   },
   {
    "duration": 5,
    "start_time": "2024-10-26T04:18:06.481Z"
   },
   {
    "duration": 3,
    "start_time": "2024-10-26T04:18:09.523Z"
   },
   {
    "duration": 8,
    "start_time": "2024-10-26T04:18:42.745Z"
   },
   {
    "duration": 8,
    "start_time": "2024-10-26T04:21:44.016Z"
   },
   {
    "duration": 5,
    "start_time": "2024-10-26T04:22:04.866Z"
   },
   {
    "duration": 9,
    "start_time": "2024-10-26T04:23:35.627Z"
   },
   {
    "duration": 8,
    "start_time": "2024-10-26T04:23:43.710Z"
   },
   {
    "duration": 3,
    "start_time": "2024-10-26T04:24:54.821Z"
   },
   {
    "duration": 4,
    "start_time": "2024-10-26T04:24:59.139Z"
   },
   {
    "duration": 4,
    "start_time": "2024-10-26T04:25:41.126Z"
   },
   {
    "duration": 3,
    "start_time": "2024-10-26T04:26:25.333Z"
   },
   {
    "duration": 10,
    "start_time": "2024-10-26T04:26:30.006Z"
   },
   {
    "duration": 5,
    "start_time": "2024-10-26T04:26:39.771Z"
   },
   {
    "duration": 13,
    "start_time": "2024-10-26T04:27:32.409Z"
   },
   {
    "duration": 16,
    "start_time": "2024-10-26T04:31:10.776Z"
   },
   {
    "duration": 11,
    "start_time": "2024-10-26T04:31:55.384Z"
   },
   {
    "duration": 13,
    "start_time": "2024-10-26T04:32:02.062Z"
   },
   {
    "duration": 9,
    "start_time": "2024-10-26T04:33:14.176Z"
   },
   {
    "duration": 14,
    "start_time": "2024-10-26T04:33:19.454Z"
   },
   {
    "duration": 236,
    "start_time": "2024-10-26T04:33:48.689Z"
   },
   {
    "duration": 224,
    "start_time": "2024-10-26T04:33:57.162Z"
   },
   {
    "duration": 250,
    "start_time": "2024-10-26T04:34:06.978Z"
   },
   {
    "duration": 15,
    "start_time": "2024-10-26T04:34:20.289Z"
   },
   {
    "duration": 193,
    "start_time": "2024-10-26T04:34:44.175Z"
   },
   {
    "duration": 28,
    "start_time": "2024-10-26T04:34:47.740Z"
   },
   {
    "duration": 153,
    "start_time": "2024-10-26T04:35:15.947Z"
   },
   {
    "duration": 71,
    "start_time": "2024-10-26T04:36:47.899Z"
   },
   {
    "duration": 21,
    "start_time": "2024-10-26T04:36:52.570Z"
   },
   {
    "duration": 9,
    "start_time": "2024-10-26T04:36:55.732Z"
   },
   {
    "duration": 14,
    "start_time": "2024-10-26T04:36:57.690Z"
   },
   {
    "duration": 294,
    "start_time": "2024-10-26T04:36:59.730Z"
   },
   {
    "duration": 7,
    "start_time": "2024-10-26T04:37:08.232Z"
   },
   {
    "duration": 4,
    "start_time": "2024-10-26T04:37:10.609Z"
   },
   {
    "duration": 197,
    "start_time": "2024-10-26T04:37:14.611Z"
   },
   {
    "duration": 209,
    "start_time": "2024-10-26T04:38:20.379Z"
   },
   {
    "duration": 213,
    "start_time": "2024-10-26T04:38:28.569Z"
   },
   {
    "duration": 13,
    "start_time": "2024-10-26T04:42:44.234Z"
   },
   {
    "duration": 8,
    "start_time": "2024-10-26T04:43:12.314Z"
   },
   {
    "duration": 200,
    "start_time": "2024-10-26T04:43:22.118Z"
   },
   {
    "duration": 264,
    "start_time": "2024-10-26T04:43:41.035Z"
   },
   {
    "duration": 201,
    "start_time": "2024-10-26T04:43:49.060Z"
   },
   {
    "duration": 527,
    "start_time": "2024-10-26T04:44:32.626Z"
   },
   {
    "duration": 303,
    "start_time": "2024-10-26T04:44:51.503Z"
   },
   {
    "duration": 299,
    "start_time": "2024-10-26T04:46:02.006Z"
   },
   {
    "duration": 381,
    "start_time": "2024-10-26T04:48:14.860Z"
   },
   {
    "duration": 11,
    "start_time": "2024-10-26T04:49:39.888Z"
   },
   {
    "duration": 8,
    "start_time": "2024-10-26T04:50:30.926Z"
   },
   {
    "duration": 13,
    "start_time": "2024-10-26T04:51:08.897Z"
   },
   {
    "duration": 6,
    "start_time": "2024-10-26T04:51:37.852Z"
   },
   {
    "duration": 15,
    "start_time": "2024-10-26T04:51:44.389Z"
   },
   {
    "duration": 7,
    "start_time": "2024-10-26T04:51:59.336Z"
   },
   {
    "duration": 9,
    "start_time": "2024-10-26T04:52:16.052Z"
   },
   {
    "duration": 22,
    "start_time": "2024-10-26T04:53:14.006Z"
   },
   {
    "duration": 25,
    "start_time": "2024-10-26T04:53:55.465Z"
   },
   {
    "duration": 34,
    "start_time": "2024-10-26T04:54:14.752Z"
   },
   {
    "duration": 31,
    "start_time": "2024-10-26T04:54:51.440Z"
   },
   {
    "duration": 28,
    "start_time": "2024-10-26T04:55:31.702Z"
   },
   {
    "duration": 28,
    "start_time": "2024-10-26T04:56:30.830Z"
   },
   {
    "duration": 25,
    "start_time": "2024-10-26T04:56:54.689Z"
   },
   {
    "duration": 20,
    "start_time": "2024-10-26T04:57:21.298Z"
   },
   {
    "duration": 23,
    "start_time": "2024-10-26T05:08:25.587Z"
   },
   {
    "duration": 21,
    "start_time": "2024-10-26T05:08:49.791Z"
   },
   {
    "duration": 5,
    "start_time": "2024-10-26T05:09:29.307Z"
   },
   {
    "duration": 9,
    "start_time": "2024-10-26T05:09:33.794Z"
   },
   {
    "duration": 10,
    "start_time": "2024-10-26T05:10:00.831Z"
   },
   {
    "duration": 12,
    "start_time": "2024-10-26T05:17:47.383Z"
   },
   {
    "duration": 9,
    "start_time": "2024-10-26T05:18:06.946Z"
   },
   {
    "duration": 13,
    "start_time": "2024-10-26T05:26:54.851Z"
   },
   {
    "duration": 217,
    "start_time": "2024-10-26T05:33:13.878Z"
   },
   {
    "duration": 294,
    "start_time": "2024-10-26T05:33:45.550Z"
   },
   {
    "duration": 2602,
    "start_time": "2024-10-26T18:50:30.520Z"
   },
   {
    "duration": 474,
    "start_time": "2024-10-26T18:50:33.125Z"
   },
   {
    "duration": 34,
    "start_time": "2024-10-26T18:50:33.600Z"
   },
   {
    "duration": 3,
    "start_time": "2024-10-26T18:50:33.636Z"
   },
   {
    "duration": 20,
    "start_time": "2024-10-26T18:50:33.643Z"
   },
   {
    "duration": 93,
    "start_time": "2024-10-26T18:50:33.665Z"
   },
   {
    "duration": 4,
    "start_time": "2024-10-26T18:50:33.760Z"
   },
   {
    "duration": 307,
    "start_time": "2024-10-26T18:50:33.766Z"
   },
   {
    "duration": 5,
    "start_time": "2024-10-26T18:50:34.074Z"
   },
   {
    "duration": 27,
    "start_time": "2024-10-26T18:50:34.081Z"
   },
   {
    "duration": 29,
    "start_time": "2024-10-26T18:50:34.109Z"
   },
   {
    "duration": 19,
    "start_time": "2024-10-26T18:50:34.140Z"
   },
   {
    "duration": 4,
    "start_time": "2024-10-26T18:50:34.161Z"
   },
   {
    "duration": 102,
    "start_time": "2024-10-26T18:50:34.169Z"
   },
   {
    "duration": 20,
    "start_time": "2024-10-26T18:50:34.273Z"
   },
   {
    "duration": 9,
    "start_time": "2024-10-26T18:50:34.295Z"
   },
   {
    "duration": 38,
    "start_time": "2024-10-26T18:50:34.306Z"
   },
   {
    "duration": 330,
    "start_time": "2024-10-26T18:50:34.346Z"
   },
   {
    "duration": 9,
    "start_time": "2024-10-26T18:50:34.677Z"
   },
   {
    "duration": 231,
    "start_time": "2024-10-26T18:50:34.688Z"
   },
   {
    "duration": 0,
    "start_time": "2024-10-26T18:50:34.921Z"
   },
   {
    "duration": 0,
    "start_time": "2024-10-26T18:50:34.930Z"
   },
   {
    "duration": 0,
    "start_time": "2024-10-26T18:50:34.932Z"
   },
   {
    "duration": 0,
    "start_time": "2024-10-26T18:50:34.933Z"
   },
   {
    "duration": 0,
    "start_time": "2024-10-26T18:50:34.933Z"
   },
   {
    "duration": 0,
    "start_time": "2024-10-26T18:50:34.934Z"
   },
   {
    "duration": 0,
    "start_time": "2024-10-26T18:50:34.936Z"
   },
   {
    "duration": 0,
    "start_time": "2024-10-26T18:50:34.937Z"
   },
   {
    "duration": 0,
    "start_time": "2024-10-26T18:50:34.938Z"
   },
   {
    "duration": 815,
    "start_time": "2024-10-26T18:51:50.574Z"
   },
   {
    "duration": 394,
    "start_time": "2024-10-26T18:51:51.391Z"
   },
   {
    "duration": 27,
    "start_time": "2024-10-26T18:51:51.786Z"
   },
   {
    "duration": 16,
    "start_time": "2024-10-26T18:51:51.815Z"
   },
   {
    "duration": 21,
    "start_time": "2024-10-26T18:51:51.833Z"
   },
   {
    "duration": 82,
    "start_time": "2024-10-26T18:51:51.855Z"
   },
   {
    "duration": 3,
    "start_time": "2024-10-26T18:51:51.939Z"
   },
   {
    "duration": 306,
    "start_time": "2024-10-26T18:51:51.945Z"
   },
   {
    "duration": 5,
    "start_time": "2024-10-26T18:51:52.253Z"
   },
   {
    "duration": 27,
    "start_time": "2024-10-26T18:51:52.260Z"
   },
   {
    "duration": 7,
    "start_time": "2024-10-26T18:51:52.289Z"
   },
   {
    "duration": 46,
    "start_time": "2024-10-26T18:51:52.297Z"
   },
   {
    "duration": 5,
    "start_time": "2024-10-26T18:51:52.344Z"
   },
   {
    "duration": 99,
    "start_time": "2024-10-26T18:51:52.353Z"
   },
   {
    "duration": 20,
    "start_time": "2024-10-26T18:51:52.453Z"
   },
   {
    "duration": 8,
    "start_time": "2024-10-26T18:51:52.475Z"
   },
   {
    "duration": 15,
    "start_time": "2024-10-26T18:51:52.484Z"
   },
   {
    "duration": 369,
    "start_time": "2024-10-26T18:51:52.501Z"
   },
   {
    "duration": 9,
    "start_time": "2024-10-26T18:51:52.871Z"
   },
   {
    "duration": 293,
    "start_time": "2024-10-26T18:51:52.881Z"
   },
   {
    "duration": 0,
    "start_time": "2024-10-26T18:51:53.176Z"
   },
   {
    "duration": 0,
    "start_time": "2024-10-26T18:51:53.177Z"
   },
   {
    "duration": 0,
    "start_time": "2024-10-26T18:51:53.178Z"
   },
   {
    "duration": 0,
    "start_time": "2024-10-26T18:51:53.179Z"
   },
   {
    "duration": 0,
    "start_time": "2024-10-26T18:51:53.179Z"
   },
   {
    "duration": 0,
    "start_time": "2024-10-26T18:51:53.180Z"
   },
   {
    "duration": 0,
    "start_time": "2024-10-26T18:51:53.181Z"
   },
   {
    "duration": 0,
    "start_time": "2024-10-26T18:51:53.182Z"
   },
   {
    "duration": 0,
    "start_time": "2024-10-26T18:51:53.183Z"
   },
   {
    "duration": 4,
    "start_time": "2024-10-26T18:52:09.537Z"
   },
   {
    "duration": 4,
    "start_time": "2024-10-26T18:52:23.284Z"
   },
   {
    "duration": 203,
    "start_time": "2024-10-26T18:52:27.085Z"
   },
   {
    "duration": 305,
    "start_time": "2024-10-26T18:52:33.489Z"
   },
   {
    "duration": 7,
    "start_time": "2024-10-26T18:52:38.609Z"
   },
   {
    "duration": 23,
    "start_time": "2024-10-26T18:52:44.152Z"
   },
   {
    "duration": 20,
    "start_time": "2024-10-26T18:53:00.790Z"
   },
   {
    "duration": 9,
    "start_time": "2024-10-26T18:53:05.528Z"
   },
   {
    "duration": 13,
    "start_time": "2024-10-26T20:47:20.698Z"
   },
   {
    "duration": 9,
    "start_time": "2024-10-26T20:47:56.319Z"
   },
   {
    "duration": 7,
    "start_time": "2024-10-26T20:48:24.624Z"
   },
   {
    "duration": 10,
    "start_time": "2024-10-26T20:48:29.867Z"
   },
   {
    "duration": 14,
    "start_time": "2024-10-26T20:50:07.331Z"
   },
   {
    "duration": 16,
    "start_time": "2024-10-26T20:50:10.366Z"
   },
   {
    "duration": 20,
    "start_time": "2024-10-26T20:51:44.435Z"
   },
   {
    "duration": 18,
    "start_time": "2024-10-26T20:51:48.909Z"
   },
   {
    "duration": 21,
    "start_time": "2024-10-26T20:51:55.954Z"
   },
   {
    "duration": 18,
    "start_time": "2024-10-26T20:51:57.843Z"
   },
   {
    "duration": 17,
    "start_time": "2024-10-26T20:52:47.585Z"
   },
   {
    "duration": 19,
    "start_time": "2024-10-26T20:53:08.387Z"
   },
   {
    "duration": 17,
    "start_time": "2024-10-26T20:53:56.972Z"
   },
   {
    "duration": 18,
    "start_time": "2024-10-26T20:54:06.664Z"
   },
   {
    "duration": 139,
    "start_time": "2024-10-26T20:55:42.218Z"
   },
   {
    "duration": 20,
    "start_time": "2024-10-26T20:55:49.650Z"
   },
   {
    "duration": 6,
    "start_time": "2024-10-26T20:58:19.402Z"
   },
   {
    "duration": 23,
    "start_time": "2024-10-26T20:58:27.564Z"
   },
   {
    "duration": 26,
    "start_time": "2024-10-26T20:59:58.281Z"
   },
   {
    "duration": 7,
    "start_time": "2024-10-26T21:00:19.204Z"
   },
   {
    "duration": 6,
    "start_time": "2024-10-26T21:02:39.497Z"
   },
   {
    "duration": 41,
    "start_time": "2024-10-26T21:04:27.429Z"
   },
   {
    "duration": 52,
    "start_time": "2024-10-26T21:04:45.950Z"
   },
   {
    "duration": 30,
    "start_time": "2024-10-26T21:05:17.989Z"
   },
   {
    "duration": 22,
    "start_time": "2024-10-26T21:05:24.303Z"
   },
   {
    "duration": 3,
    "start_time": "2024-10-26T21:05:39.863Z"
   },
   {
    "duration": 31,
    "start_time": "2024-10-26T21:05:43.577Z"
   },
   {
    "duration": 3,
    "start_time": "2024-10-26T21:06:31.810Z"
   },
   {
    "duration": 6,
    "start_time": "2024-10-26T21:06:35.601Z"
   },
   {
    "duration": 103,
    "start_time": "2024-10-26T21:06:37.374Z"
   },
   {
    "duration": 4,
    "start_time": "2024-10-26T21:08:06.811Z"
   },
   {
    "duration": 2,
    "start_time": "2024-10-26T21:08:20.600Z"
   },
   {
    "duration": 6,
    "start_time": "2024-10-26T21:08:24.274Z"
   },
   {
    "duration": 13,
    "start_time": "2024-10-26T21:08:26.162Z"
   },
   {
    "duration": 356,
    "start_time": "2024-10-26T21:14:50.900Z"
   },
   {
    "duration": 15,
    "start_time": "2024-10-26T21:14:59.364Z"
   },
   {
    "duration": 13,
    "start_time": "2024-10-26T21:16:04.403Z"
   },
   {
    "duration": 14,
    "start_time": "2024-10-26T21:18:20.305Z"
   },
   {
    "duration": 14,
    "start_time": "2024-10-26T21:18:45.421Z"
   },
   {
    "duration": 6,
    "start_time": "2024-10-26T21:18:53.933Z"
   },
   {
    "duration": 6,
    "start_time": "2024-10-26T21:19:06.930Z"
   },
   {
    "duration": 7,
    "start_time": "2024-10-26T21:19:36.192Z"
   },
   {
    "duration": 6,
    "start_time": "2024-10-26T21:26:31.767Z"
   },
   {
    "duration": 7,
    "start_time": "2024-10-26T21:28:07.903Z"
   },
   {
    "duration": 13,
    "start_time": "2024-10-26T21:28:12.504Z"
   },
   {
    "duration": 141,
    "start_time": "2024-10-26T21:34:11.057Z"
   },
   {
    "duration": 22,
    "start_time": "2024-10-26T21:36:50.662Z"
   },
   {
    "duration": 7,
    "start_time": "2024-10-26T21:36:57.640Z"
   },
   {
    "duration": 23,
    "start_time": "2024-10-26T21:36:59.633Z"
   },
   {
    "duration": 27,
    "start_time": "2024-10-26T21:37:01.487Z"
   },
   {
    "duration": 28,
    "start_time": "2024-10-26T21:37:55.083Z"
   },
   {
    "duration": 8,
    "start_time": "2024-10-26T21:38:25.528Z"
   },
   {
    "duration": 26,
    "start_time": "2024-10-26T21:38:30.000Z"
   },
   {
    "duration": 27,
    "start_time": "2024-10-26T21:39:11.282Z"
   },
   {
    "duration": 159,
    "start_time": "2024-10-26T21:39:30.221Z"
   },
   {
    "duration": 28,
    "start_time": "2024-10-26T21:39:52.780Z"
   },
   {
    "duration": 17,
    "start_time": "2024-10-26T21:58:07.402Z"
   },
   {
    "duration": 23,
    "start_time": "2024-10-26T21:58:17.729Z"
   },
   {
    "duration": 27,
    "start_time": "2024-10-26T21:58:23.819Z"
   },
   {
    "duration": 26,
    "start_time": "2024-10-26T21:58:51.527Z"
   },
   {
    "duration": 17,
    "start_time": "2024-10-26T21:59:05.938Z"
   },
   {
    "duration": 592,
    "start_time": "2024-10-26T22:00:29.191Z"
   },
   {
    "duration": 143,
    "start_time": "2024-10-26T22:00:39.312Z"
   },
   {
    "duration": 9,
    "start_time": "2024-10-26T22:00:46.498Z"
   },
   {
    "duration": 5,
    "start_time": "2024-10-26T22:01:08.744Z"
   },
   {
    "duration": 25,
    "start_time": "2024-10-26T22:01:30.923Z"
   },
   {
    "duration": 16,
    "start_time": "2024-10-26T22:01:44.883Z"
   },
   {
    "duration": 5,
    "start_time": "2024-10-26T22:01:57.089Z"
   },
   {
    "duration": 479,
    "start_time": "2024-10-26T22:02:04.993Z"
   },
   {
    "duration": 20,
    "start_time": "2024-10-26T22:02:27.125Z"
   },
   {
    "duration": 21,
    "start_time": "2024-10-26T22:02:38.705Z"
   },
   {
    "duration": 23,
    "start_time": "2024-10-26T22:04:52.244Z"
   },
   {
    "duration": 23,
    "start_time": "2024-10-26T22:05:23.436Z"
   },
   {
    "duration": 24,
    "start_time": "2024-10-26T22:06:00.978Z"
   },
   {
    "duration": 14,
    "start_time": "2024-10-26T22:06:57.091Z"
   },
   {
    "duration": 49,
    "start_time": "2024-10-26T22:07:16.804Z"
   },
   {
    "duration": 4,
    "start_time": "2024-10-26T22:09:12.459Z"
   },
   {
    "duration": 50,
    "start_time": "2024-10-26T22:09:56.126Z"
   },
   {
    "duration": 10,
    "start_time": "2024-10-26T22:11:41.750Z"
   },
   {
    "duration": 15,
    "start_time": "2024-10-26T22:11:53.378Z"
   },
   {
    "duration": 18,
    "start_time": "2024-10-26T22:12:12.013Z"
   },
   {
    "duration": 9,
    "start_time": "2024-10-26T22:12:22.981Z"
   },
   {
    "duration": 9,
    "start_time": "2024-10-26T22:12:33.361Z"
   },
   {
    "duration": 18,
    "start_time": "2024-10-26T22:12:43.277Z"
   },
   {
    "duration": 171,
    "start_time": "2024-10-26T22:14:07.797Z"
   },
   {
    "duration": 18,
    "start_time": "2024-10-26T22:14:12.409Z"
   },
   {
    "duration": 2781,
    "start_time": "2024-10-26T23:44:45.442Z"
   },
   {
    "duration": 472,
    "start_time": "2024-10-26T23:44:48.225Z"
   },
   {
    "duration": 33,
    "start_time": "2024-10-26T23:44:48.699Z"
   },
   {
    "duration": 3,
    "start_time": "2024-10-26T23:44:48.734Z"
   },
   {
    "duration": 22,
    "start_time": "2024-10-26T23:44:48.741Z"
   },
   {
    "duration": 90,
    "start_time": "2024-10-26T23:44:48.765Z"
   },
   {
    "duration": 4,
    "start_time": "2024-10-26T23:44:48.857Z"
   },
   {
    "duration": 299,
    "start_time": "2024-10-26T23:44:48.862Z"
   },
   {
    "duration": 5,
    "start_time": "2024-10-26T23:44:49.163Z"
   },
   {
    "duration": 27,
    "start_time": "2024-10-26T23:44:49.170Z"
   },
   {
    "duration": 7,
    "start_time": "2024-10-26T23:44:49.199Z"
   },
   {
    "duration": 40,
    "start_time": "2024-10-26T23:44:49.207Z"
   },
   {
    "duration": 3,
    "start_time": "2024-10-26T23:44:49.248Z"
   },
   {
    "duration": 90,
    "start_time": "2024-10-26T23:44:49.256Z"
   },
   {
    "duration": 21,
    "start_time": "2024-10-26T23:44:49.347Z"
   },
   {
    "duration": 8,
    "start_time": "2024-10-26T23:44:49.369Z"
   },
   {
    "duration": 13,
    "start_time": "2024-10-26T23:44:49.379Z"
   },
   {
    "duration": 366,
    "start_time": "2024-10-26T23:44:49.394Z"
   },
   {
    "duration": 11,
    "start_time": "2024-10-26T23:44:49.762Z"
   },
   {
    "duration": 5,
    "start_time": "2024-10-26T23:44:49.775Z"
   },
   {
    "duration": 296,
    "start_time": "2024-10-26T23:44:49.782Z"
   },
   {
    "duration": 319,
    "start_time": "2024-10-26T23:44:50.080Z"
   },
   {
    "duration": 38,
    "start_time": "2024-10-26T23:44:50.401Z"
   },
   {
    "duration": 7,
    "start_time": "2024-10-26T23:44:50.441Z"
   },
   {
    "duration": 23,
    "start_time": "2024-10-26T23:44:50.449Z"
   },
   {
    "duration": 25,
    "start_time": "2024-10-26T23:44:50.474Z"
   },
   {
    "duration": 46,
    "start_time": "2024-10-26T23:44:50.501Z"
   },
   {
    "duration": 22,
    "start_time": "2024-10-26T23:44:50.549Z"
   },
   {
    "duration": 12,
    "start_time": "2024-10-26T23:44:50.573Z"
   },
   {
    "duration": 46,
    "start_time": "2024-10-26T23:44:50.587Z"
   },
   {
    "duration": 6,
    "start_time": "2024-10-26T23:44:50.635Z"
   },
   {
    "duration": 15,
    "start_time": "2024-10-26T23:44:50.642Z"
   },
   {
    "duration": 6,
    "start_time": "2024-10-26T23:44:50.658Z"
   },
   {
    "duration": 6,
    "start_time": "2024-10-26T23:44:50.666Z"
   },
   {
    "duration": 5,
    "start_time": "2024-10-26T23:44:50.674Z"
   },
   {
    "duration": 9,
    "start_time": "2024-10-26T23:44:50.681Z"
   },
   {
    "duration": 52,
    "start_time": "2024-10-26T23:44:50.691Z"
   },
   {
    "duration": 8,
    "start_time": "2024-10-26T23:44:50.745Z"
   },
   {
    "duration": 8,
    "start_time": "2024-10-26T23:44:50.755Z"
   },
   {
    "duration": 20,
    "start_time": "2024-10-26T23:44:50.765Z"
   },
   {
    "duration": 11,
    "start_time": "2024-10-26T23:47:11.225Z"
   },
   {
    "duration": 1041,
    "start_time": "2024-10-26T23:47:17.221Z"
   },
   {
    "duration": 411,
    "start_time": "2024-10-26T23:47:18.265Z"
   },
   {
    "duration": 32,
    "start_time": "2024-10-26T23:47:18.678Z"
   },
   {
    "duration": 3,
    "start_time": "2024-10-26T23:47:18.711Z"
   },
   {
    "duration": 22,
    "start_time": "2024-10-26T23:47:18.732Z"
   },
   {
    "duration": 86,
    "start_time": "2024-10-26T23:47:18.756Z"
   },
   {
    "duration": 4,
    "start_time": "2024-10-26T23:47:18.844Z"
   },
   {
    "duration": 290,
    "start_time": "2024-10-26T23:47:18.850Z"
   },
   {
    "duration": 5,
    "start_time": "2024-10-26T23:47:19.142Z"
   },
   {
    "duration": 27,
    "start_time": "2024-10-26T23:47:19.149Z"
   },
   {
    "duration": 6,
    "start_time": "2024-10-26T23:47:19.178Z"
   },
   {
    "duration": 46,
    "start_time": "2024-10-26T23:47:19.185Z"
   },
   {
    "duration": 3,
    "start_time": "2024-10-26T23:47:19.233Z"
   },
   {
    "duration": 75,
    "start_time": "2024-10-26T23:47:19.241Z"
   },
   {
    "duration": 20,
    "start_time": "2024-10-26T23:47:19.332Z"
   },
   {
    "duration": 8,
    "start_time": "2024-10-26T23:47:19.354Z"
   },
   {
    "duration": 13,
    "start_time": "2024-10-26T23:47:19.363Z"
   },
   {
    "duration": 375,
    "start_time": "2024-10-26T23:47:19.378Z"
   },
   {
    "duration": 12,
    "start_time": "2024-10-26T23:47:19.756Z"
   },
   {
    "duration": 5,
    "start_time": "2024-10-26T23:47:19.771Z"
   },
   {
    "duration": 228,
    "start_time": "2024-10-26T23:47:19.780Z"
   },
   {
    "duration": 308,
    "start_time": "2024-10-26T23:47:20.010Z"
   },
   {
    "duration": 22,
    "start_time": "2024-10-26T23:47:20.322Z"
   },
   {
    "duration": 11,
    "start_time": "2024-10-26T23:47:20.346Z"
   },
   {
    "duration": 14,
    "start_time": "2024-10-26T23:47:20.358Z"
   },
   {
    "duration": 10,
    "start_time": "2024-10-26T23:47:20.374Z"
   },
   {
    "duration": 10,
    "start_time": "2024-10-26T23:47:20.386Z"
   },
   {
    "duration": 51,
    "start_time": "2024-10-26T23:47:20.397Z"
   },
   {
    "duration": 20,
    "start_time": "2024-10-26T23:50:52.325Z"
   },
   {
    "duration": 13,
    "start_time": "2024-10-26T23:52:08.772Z"
   },
   {
    "duration": 6,
    "start_time": "2024-10-26T23:53:24.175Z"
   },
   {
    "duration": 10,
    "start_time": "2024-10-26T23:53:28.347Z"
   },
   {
    "duration": 13,
    "start_time": "2024-10-26T23:53:34.055Z"
   },
   {
    "duration": 14,
    "start_time": "2024-10-26T23:55:10.768Z"
   },
   {
    "duration": 15,
    "start_time": "2024-10-26T23:56:29.684Z"
   },
   {
    "duration": 17,
    "start_time": "2024-10-26T23:58:32.047Z"
   },
   {
    "duration": 15,
    "start_time": "2024-10-26T23:58:44.426Z"
   },
   {
    "duration": 16,
    "start_time": "2024-10-26T23:58:47.409Z"
   },
   {
    "duration": 13,
    "start_time": "2024-10-27T00:22:13.467Z"
   },
   {
    "duration": 11,
    "start_time": "2024-10-27T00:22:27.417Z"
   },
   {
    "duration": 78,
    "start_time": "2024-10-27T00:23:24.392Z"
   },
   {
    "duration": 1023,
    "start_time": "2024-10-27T00:23:30.834Z"
   },
   {
    "duration": 423,
    "start_time": "2024-10-27T00:23:31.859Z"
   },
   {
    "duration": 28,
    "start_time": "2024-10-27T00:23:32.283Z"
   },
   {
    "duration": 3,
    "start_time": "2024-10-27T00:23:32.313Z"
   },
   {
    "duration": 20,
    "start_time": "2024-10-27T00:23:32.333Z"
   },
   {
    "duration": 81,
    "start_time": "2024-10-27T00:23:32.354Z"
   },
   {
    "duration": 4,
    "start_time": "2024-10-27T00:23:32.438Z"
   },
   {
    "duration": 303,
    "start_time": "2024-10-27T00:23:32.443Z"
   },
   {
    "duration": 5,
    "start_time": "2024-10-27T00:23:32.748Z"
   },
   {
    "duration": 28,
    "start_time": "2024-10-27T00:23:32.754Z"
   },
   {
    "duration": 6,
    "start_time": "2024-10-27T00:23:32.784Z"
   },
   {
    "duration": 49,
    "start_time": "2024-10-27T00:23:32.792Z"
   },
   {
    "duration": 2,
    "start_time": "2024-10-27T00:23:32.843Z"
   },
   {
    "duration": 86,
    "start_time": "2024-10-27T00:23:32.849Z"
   },
   {
    "duration": 254,
    "start_time": "2024-10-27T00:23:32.937Z"
   },
   {
    "duration": 0,
    "start_time": "2024-10-27T00:23:33.193Z"
   },
   {
    "duration": 0,
    "start_time": "2024-10-27T00:23:33.195Z"
   },
   {
    "duration": 0,
    "start_time": "2024-10-27T00:23:33.196Z"
   },
   {
    "duration": 0,
    "start_time": "2024-10-27T00:23:33.198Z"
   },
   {
    "duration": 0,
    "start_time": "2024-10-27T00:23:33.199Z"
   },
   {
    "duration": 0,
    "start_time": "2024-10-27T00:23:33.200Z"
   },
   {
    "duration": 0,
    "start_time": "2024-10-27T00:23:33.201Z"
   },
   {
    "duration": 0,
    "start_time": "2024-10-27T00:23:33.202Z"
   },
   {
    "duration": 0,
    "start_time": "2024-10-27T00:23:33.203Z"
   },
   {
    "duration": 0,
    "start_time": "2024-10-27T00:23:33.204Z"
   },
   {
    "duration": 0,
    "start_time": "2024-10-27T00:23:33.205Z"
   },
   {
    "duration": 0,
    "start_time": "2024-10-27T00:23:33.205Z"
   },
   {
    "duration": 1058,
    "start_time": "2024-10-27T00:24:57.781Z"
   },
   {
    "duration": 433,
    "start_time": "2024-10-27T00:24:58.841Z"
   },
   {
    "duration": 28,
    "start_time": "2024-10-27T00:24:59.276Z"
   },
   {
    "duration": 3,
    "start_time": "2024-10-27T00:24:59.306Z"
   },
   {
    "duration": 39,
    "start_time": "2024-10-27T00:24:59.313Z"
   },
   {
    "duration": 85,
    "start_time": "2024-10-27T00:24:59.354Z"
   },
   {
    "duration": 4,
    "start_time": "2024-10-27T00:24:59.441Z"
   },
   {
    "duration": 318,
    "start_time": "2024-10-27T00:24:59.446Z"
   },
   {
    "duration": 5,
    "start_time": "2024-10-27T00:24:59.766Z"
   },
   {
    "duration": 30,
    "start_time": "2024-10-27T00:24:59.773Z"
   },
   {
    "duration": 7,
    "start_time": "2024-10-27T00:24:59.806Z"
   },
   {
    "duration": 20,
    "start_time": "2024-10-27T00:24:59.832Z"
   },
   {
    "duration": 3,
    "start_time": "2024-10-27T00:24:59.854Z"
   },
   {
    "duration": 101,
    "start_time": "2024-10-27T00:24:59.861Z"
   },
   {
    "duration": 322,
    "start_time": "2024-10-27T00:24:59.966Z"
   },
   {
    "duration": 8,
    "start_time": "2024-10-27T00:25:00.290Z"
   },
   {
    "duration": 4,
    "start_time": "2024-10-27T00:25:00.300Z"
   },
   {
    "duration": 235,
    "start_time": "2024-10-27T00:25:00.305Z"
   },
   {
    "duration": 312,
    "start_time": "2024-10-27T00:25:00.542Z"
   },
   {
    "duration": 20,
    "start_time": "2024-10-27T00:25:00.856Z"
   },
   {
    "duration": 10,
    "start_time": "2024-10-27T00:25:00.878Z"
   },
   {
    "duration": 12,
    "start_time": "2024-10-27T00:25:00.890Z"
   },
   {
    "duration": 42,
    "start_time": "2024-10-27T00:25:00.904Z"
   },
   {
    "duration": 9,
    "start_time": "2024-10-27T00:25:00.947Z"
   },
   {
    "duration": 18,
    "start_time": "2024-10-27T00:25:00.957Z"
   },
   {
    "duration": 77,
    "start_time": "2024-10-27T00:26:17.936Z"
   },
   {
    "duration": 3,
    "start_time": "2024-10-27T00:28:17.628Z"
   },
   {
    "duration": 6,
    "start_time": "2024-10-27T00:28:21.559Z"
   },
   {
    "duration": 5,
    "start_time": "2024-10-27T00:28:29.494Z"
   },
   {
    "duration": 5,
    "start_time": "2024-10-27T00:28:34.082Z"
   },
   {
    "duration": 6,
    "start_time": "2024-11-02T01:44:45.070Z"
   }
  ],
  "kernelspec": {
   "display_name": "Python 3 (ipykernel)",
   "language": "python",
   "name": "python3"
  },
  "language_info": {
   "codemirror_mode": {
    "name": "ipython",
    "version": 3
   },
   "file_extension": ".py",
   "mimetype": "text/x-python",
   "name": "python",
   "nbconvert_exporter": "python",
   "pygments_lexer": "ipython3",
   "version": "3.12.3"
  },
  "toc": {
   "base_numbering": 1,
   "nav_menu": {},
   "number_sections": true,
   "sideBar": true,
   "skip_h1_title": true,
   "title_cell": "Table of Contents",
   "title_sidebar": "Contents",
   "toc_cell": false,
   "toc_position": {
    "height": "calc(100% - 180px)",
    "left": "10px",
    "top": "150px",
    "width": "379.18px"
   },
   "toc_section_display": true,
   "toc_window_display": true
  }
 },
 "nbformat": 4,
 "nbformat_minor": 4
}
